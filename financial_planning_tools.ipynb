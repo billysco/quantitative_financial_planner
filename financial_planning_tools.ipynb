{
 "cells": [
  {
   "cell_type": "markdown",
   "metadata": {},
   "source": [
    "# Financial Planning with APIs and Simulations\n",
    "\n",
    "In this Challenge, you’ll create two financial analysis tools by using a single Jupyter notebook:\n",
    "\n",
    "Part 1: A financial planner for emergencies. The members will be able to use this tool to visualize their current savings. The members can then determine if they have enough reserves for an emergency fund.\n",
    "\n",
    "Part 2: A financial planner for retirement. This tool will forecast the performance of their retirement portfolio in 30 years. To do this, the tool will make an Alpaca API call via the Alpaca SDK to get historical price data for use in Monte Carlo simulations.\n",
    "\n",
    "You’ll use the information from the Monte Carlo simulation to answer questions about the portfolio in your Jupyter notebook.\n",
    "\n"
   ]
  },
  {
   "cell_type": "code",
   "execution_count": 1,
   "metadata": {},
   "outputs": [],
   "source": [
    "# Import the required libraries and dependencies\n",
    "import os\n",
    "import requests\n",
    "import json\n",
    "import pandas as pd\n",
    "from dotenv import load_dotenv\n",
    "import alpaca_trade_api as tradeapi\n",
    "from MCForecastTools import MCSimulation\n",
    "\n",
    "%matplotlib inline"
   ]
  },
  {
   "cell_type": "code",
   "execution_count": 3,
   "metadata": {},
   "outputs": [
    {
     "data": {
      "text/plain": [
       "True"
      ]
     },
     "execution_count": 3,
     "metadata": {},
     "output_type": "execute_result"
    }
   ],
   "source": [
    "# Load the environment variables from the .env file by calling the load_dotenv function\n",
    "load_dotenv()"
   ]
  },
  {
   "cell_type": "markdown",
   "metadata": {},
   "source": [
    "## Part 1: Create a Financial Planner for Emergencies"
   ]
  },
  {
   "cell_type": "markdown",
   "metadata": {},
   "source": [
    "### Evaluate the Cryptocurrency Wallet by Using the Requests Library\n",
    "\n",
    "In this section, you’ll determine the current value of a member’s cryptocurrency wallet. You’ll collect the current prices for the Bitcoin and Ethereum cryptocurrencies by using the Python Requests library. For the prototype, you’ll assume that the member holds the 1.2 Bitcoins (BTC) and 5.3 Ethereum coins (ETH). To do all this, complete the following steps:\n",
    "\n",
    "1. Create a variable named `monthly_income`, and set its value to `12000`.\n",
    "\n",
    "2. Use the Requests library to get the current price (in US dollars) of Bitcoin (BTC) and Ethereum (ETH) by using the API endpoints that the starter code supplies.\n",
    "\n",
    "3. Navigate the JSON response object to access the current price of each coin, and store each in a variable.\n",
    "\n",
    "    > **Hint** Note the specific identifier for each cryptocurrency in the API JSON response. The Bitcoin identifier is `1`, and the Ethereum identifier is `1027`.\n",
    "\n",
    "4. Calculate the value, in US dollars, of the current amount of each cryptocurrency and of the entire cryptocurrency wallet.\n",
    "\n"
   ]
  },
  {
   "cell_type": "code",
   "execution_count": 4,
   "metadata": {},
   "outputs": [],
   "source": [
    "# The current number of coins for each cryptocurrency asset held in the portfolio.\n",
    "btc_coins = 1.2\n",
    "eth_coins = 5.3"
   ]
  },
  {
   "cell_type": "markdown",
   "metadata": {},
   "source": [
    "#### Step 1: Create a variable named `monthly_income`, and set its value to `12000`."
   ]
  },
  {
   "cell_type": "code",
   "execution_count": 5,
   "metadata": {},
   "outputs": [],
   "source": [
    "# The monthly amount for the member's household income\n",
    "monthly_income = 12000\n"
   ]
  },
  {
   "cell_type": "markdown",
   "metadata": {},
   "source": [
    "#### Review the endpoint URLs for the API calls to Free Crypto API in order to get the current pricing information for both BTC and ETH."
   ]
  },
  {
   "cell_type": "code",
   "execution_count": 6,
   "metadata": {},
   "outputs": [],
   "source": [
    "# The Free Crypto API Call endpoint URLs for the held cryptocurrency assets\n",
    "btc_url = \"https://api.alternative.me/v2/ticker/Bitcoin/?convert=USD\"\n",
    "eth_url = \"https://api.alternative.me/v2/ticker/Ethereum/?convert=USD\""
   ]
  },
  {
   "cell_type": "markdown",
   "metadata": {},
   "source": [
    "#### Step 2. Use the Requests library to get the current price (in US dollars) of Bitcoin (BTC) and Ethereum (ETH) by using the API endpoints that the starter code supplied."
   ]
  },
  {
   "cell_type": "code",
   "execution_count": 9,
   "metadata": {},
   "outputs": [
    {
     "name": "stdout",
     "output_type": "stream",
     "text": [
      "{\n",
      "    \"data\": {\n",
      "        \"1\": {\n",
      "            \"circulating_supply\": 18614918,\n",
      "            \"id\": 1,\n",
      "            \"last_updated\": 1612044768,\n",
      "            \"max_supply\": 21000000,\n",
      "            \"name\": \"Bitcoin\",\n",
      "            \"quotes\": {\n",
      "                \"USD\": {\n",
      "                    \"market_cap\": 643476266247,\n",
      "                    \"percent_change_1h\": 1.44063679157984,\n",
      "                    \"percent_change_24h\": -2.06288993179944,\n",
      "                    \"percent_change_7d\": 4.82269746298651,\n",
      "                    \"percentage_change_1h\": 1.44063679157984,\n",
      "                    \"percentage_change_24h\": -2.06288993179944,\n",
      "                    \"percentage_change_7d\": 4.82269746298651,\n",
      "                    \"price\": 34547.0,\n",
      "                    \"volume_24h\": 54555963429\n",
      "                }\n",
      "            },\n",
      "            \"rank\": 1,\n",
      "            \"symbol\": \"BTC\",\n",
      "            \"total_supply\": 18614918,\n",
      "            \"website_slug\": \"bitcoin\"\n",
      "        }\n",
      "    },\n",
      "    \"metadata\": {\n",
      "        \"error\": null,\n",
      "        \"num_cryptocurrencies\": 1371,\n",
      "        \"timestamp\": 1612044768\n",
      "    }\n",
      "}\n"
     ]
    }
   ],
   "source": [
    "# Using the Python requests library, make an API call to access the current price of BTC\n",
    "btc_response = requests.get(btc_url).json()\n",
    "\n",
    "# Use the json.dumps function to review the response data from the API call\n",
    "# Use the indent and sort_keys parameters to make the response object readable\n",
    "print(json.dumps(btc_response,indent=4,sort_keys=True))\n"
   ]
  },
  {
   "cell_type": "code",
   "execution_count": 10,
   "metadata": {},
   "outputs": [
    {
     "name": "stdout",
     "output_type": "stream",
     "text": [
      "{\n",
      "    \"data\": {\n",
      "        \"1027\": {\n",
      "            \"circulating_supply\": 114470208,\n",
      "            \"id\": 1027,\n",
      "            \"last_updated\": 1612049145,\n",
      "            \"max_supply\": 0,\n",
      "            \"name\": \"Ethereum\",\n",
      "            \"quotes\": {\n",
      "                \"USD\": {\n",
      "                    \"market_cap\": 157278843386,\n",
      "                    \"percent_change_1h\": -0.508496681428829,\n",
      "                    \"percent_change_24h\": -0.934564325672093,\n",
      "                    \"percent_change_7d\": 10.787966092209,\n",
      "                    \"percentage_change_1h\": -0.508496681428829,\n",
      "                    \"percentage_change_24h\": -0.934564325672093,\n",
      "                    \"percentage_change_7d\": 10.787966092209,\n",
      "                    \"price\": 1370.1,\n",
      "                    \"volume_24h\": 29661360531\n",
      "                }\n",
      "            },\n",
      "            \"rank\": 2,\n",
      "            \"symbol\": \"ETH\",\n",
      "            \"total_supply\": 114470208,\n",
      "            \"website_slug\": \"ethereum\"\n",
      "        }\n",
      "    },\n",
      "    \"metadata\": {\n",
      "        \"error\": null,\n",
      "        \"num_cryptocurrencies\": 1371,\n",
      "        \"timestamp\": 1612049145\n",
      "    }\n",
      "}\n"
     ]
    }
   ],
   "source": [
    "# Using the Python requests library, make an API call to access the current price ETH\n",
    "eth_response = requests.get(eth_url).json()\n",
    "\n",
    "# Use the json.dumps function to review the response data from the API call\n",
    "# Use the indent and sort_keys parameters to make the response object readable\n",
    "print(json.dumps(eth_response,indent=4,sort_keys=True))\n"
   ]
  },
  {
   "cell_type": "markdown",
   "metadata": {},
   "source": [
    "#### Step 3: Navigate the JSON response object to access the current price of each coin, and store each in a variable."
   ]
  },
  {
   "cell_type": "code",
   "execution_count": 11,
   "metadata": {},
   "outputs": [
    {
     "name": "stdout",
     "output_type": "stream",
     "text": [
      "34547.0\n"
     ]
    }
   ],
   "source": [
    "# Navigate the BTC response object to access the current price of BTC\n",
    "btc_price = btc_response['data']['1']['quotes']['USD']['price']\n",
    "\n",
    "# Print the current price of BTC\n",
    "print(btc_price)\n"
   ]
  },
  {
   "cell_type": "code",
   "execution_count": 12,
   "metadata": {},
   "outputs": [
    {
     "name": "stdout",
     "output_type": "stream",
     "text": [
      "1370.1\n"
     ]
    }
   ],
   "source": [
    "# Navigate the BTC response object to access the current price of ETH\n",
    "eth_price = eth_response['data']['1027']['quotes']['USD']['price']\n",
    "\n",
    "# Print the current price of ETH\n",
    "print(eth_price)\n"
   ]
  },
  {
   "cell_type": "markdown",
   "metadata": {},
   "source": [
    "### Step 4: Calculate the value, in US dollars, of the current amount of each cryptocurrency and of the entire cryptocurrency wallet."
   ]
  },
  {
   "cell_type": "code",
   "execution_count": 13,
   "metadata": {},
   "outputs": [
    {
     "name": "stdout",
     "output_type": "stream",
     "text": [
      "41456.4\n"
     ]
    }
   ],
   "source": [
    "# Compute the current value of the BTC holding \n",
    "btc_value = btc_coins*btc_price\n",
    "\n",
    "# Print current value of your holding in BTC\n",
    "print(btc_value)\n"
   ]
  },
  {
   "cell_type": "code",
   "execution_count": 16,
   "metadata": {},
   "outputs": [
    {
     "name": "stdout",
     "output_type": "stream",
     "text": [
      "7261.529999999999\n"
     ]
    }
   ],
   "source": [
    "# Compute the current value of the ETH holding \n",
    "eth_value = eth_coins*eth_price\n",
    "\n",
    "# Print current value of your holding in ETH\n",
    "print(eth_value)\n"
   ]
  },
  {
   "cell_type": "code",
   "execution_count": 34,
   "metadata": {},
   "outputs": [
    {
     "name": "stdout",
     "output_type": "stream",
     "text": [
      "48717.93\n"
     ]
    }
   ],
   "source": [
    "# Compute the total value of the cryptocurrency wallet\n",
    "# Add the value of the BTC holding to the value of the ETH holding\n",
    "total_crypto_wallet = eth_value+btc_value\n",
    "\n",
    "# Print current cryptocurrency wallet balance\n",
    "print(total_crypto_wallet)\n"
   ]
  },
  {
   "cell_type": "markdown",
   "metadata": {},
   "source": [
    "### Evaluate the Stock and Bond Holdings by Using the Alpaca SDK\n",
    "\n",
    "In this section, you’ll determine the current value of a member’s stock and bond holdings. You’ll make an API call to Alpaca via the Alpaca SDK to get the current closing prices of the SPDR S&P 500 ETF Trust (ticker: SPY) and of the iShares Core US Aggregate Bond ETF (ticker: AGG). For the prototype, assume that the member holds 110 shares of SPY, which represents the stock portion of their portfolio, and 200 shares of AGG, which represents the bond portion. To do all this, complete the following steps:\n",
    "\n",
    "1. In the `Starter_Code` folder, create an environment file (`.env`) to store the values of your Alpaca API key and Alpaca secret key.\n",
    "\n",
    "2. Set the variables for the Alpaca API and secret keys. Using the Alpaca SDK, create the Alpaca `tradeapi.REST` object. In this object, include the parameters for the Alpaca API key, the secret key, and the version number.\n",
    "\n",
    "3. Set the following parameters for the Alpaca API call:\n",
    "\n",
    "    - `tickers`: Use the tickers for the member’s stock and bond holdings.\n",
    "\n",
    "    - `timeframe`: Use a time frame of one day.\n",
    "\n",
    "    - `start_date` and `end_date`: Use the same date for these parameters, and format them with the date of the previous weekday (or `2020-08-07`). This is because you want the one closing price for the most-recent trading day.\n",
    "\n",
    "4. Get the current closing prices for `SPY` and `AGG` by using the Alpaca `get_barset` function. Format the response as a Pandas DataFrame by including the `df` property at the end of the `get_barset` function.\n",
    "\n",
    "5. Navigating the Alpaca response DataFrame, select the `SPY` and `AGG` closing prices, and store them as variables.\n",
    "\n",
    "6. Calculate the value, in US dollars, of the current amount of shares in each of the stock and bond portions of the portfolio, and print the results.\n"
   ]
  },
  {
   "cell_type": "markdown",
   "metadata": {},
   "source": [
    "#### Review the total number of shares held in both (SPY) and (AGG)."
   ]
  },
  {
   "cell_type": "code",
   "execution_count": 18,
   "metadata": {},
   "outputs": [],
   "source": [
    "# Current amount of shares held in both the stock (SPY) and bond (AGG) portion of the portfolio.\n",
    "spy_shares = 110\n",
    "agg_shares = 200\n"
   ]
  },
  {
   "cell_type": "markdown",
   "metadata": {},
   "source": [
    "#### Step 1: In the `Starter_Code` folder, create an environment file (`.env`) to store the values of your Alpaca API key and Alpaca secret key."
   ]
  },
  {
   "cell_type": "markdown",
   "metadata": {},
   "source": [
    "#### Step 2: Set the variables for the Alpaca API and secret keys. Using the Alpaca SDK, create the Alpaca `tradeapi.REST` object. In this object, include the parameters for the Alpaca API key, the secret key, and the version number."
   ]
  },
  {
   "cell_type": "code",
   "execution_count": 23,
   "metadata": {},
   "outputs": [
    {
     "data": {
      "text/plain": [
       "str"
      ]
     },
     "metadata": {},
     "output_type": "display_data"
    },
    {
     "data": {
      "text/plain": [
       "str"
      ]
     },
     "metadata": {},
     "output_type": "display_data"
    }
   ],
   "source": [
    "# Set the variables for the Alpaca API and secret keys\n",
    "alpaca_api_key = os.getenv('ALPACA_API_KEY')\n",
    "alpaca_secret_key = os.getenv('ALPACA_SECRET_KEY')\n",
    "\n",
    "# Create the Alpaca tradeapi.REST object\n",
    "alpaca = tradeapi.REST(alpaca_api_key,alpaca_secret_key,api_version='v2')\n",
    "display(type(alpaca_api_key)) # test to make sure api key imported successfully, str indicates import successful\n",
    "display(type(alpaca_secret_key)) # test to make sure api key imported successfully, str indicates import successful"
   ]
  },
  {
   "cell_type": "markdown",
   "metadata": {},
   "source": [
    "#### Step 3: Set the following parameters for the Alpaca API call:\n",
    "\n",
    "- `tickers`: Use the tickers for the member’s stock and bond holdings.\n",
    "\n",
    "- `timeframe`: Use a time frame of one day.\n",
    "\n",
    "- `start_date` and `end_date`: Use the same date for these parameters, and format them with the date of the previous weekday (or `2020-08-07`). This is because you want the one closing price for the most-recent trading day.\n"
   ]
  },
  {
   "cell_type": "code",
   "execution_count": 25,
   "metadata": {},
   "outputs": [],
   "source": [
    "# Set the tickers for both the bond and stock portion of the portfolio\n",
    "tickers = ['SPY','AGG']\n",
    "\n",
    "# Set timeframe to 1D \n",
    "timeframe = '1D'\n",
    "\n",
    "# Format current date as ISO format\n",
    "# Set both the start and end date at the date of your prior weekday \n",
    "# This will give you the closing price of the previous trading day\n",
    "start_date = pd.Timestamp('2021-01-29',tz='America/New_York').isoformat()\n",
    "end_date = pd.Timestamp('2021-01-29',tz='America/New_York').isoformat()\n"
   ]
  },
  {
   "cell_type": "markdown",
   "metadata": {},
   "source": [
    "#### Step 4: Get the current closing prices for `SPY` and `AGG` by using the Alpaca `get_barset` function. Format the response as a Pandas DataFrame by including the `df` property at the end of the `get_barset` function."
   ]
  },
  {
   "cell_type": "code",
   "execution_count": 26,
   "metadata": {},
   "outputs": [
    {
     "data": {
      "text/html": [
       "<div>\n",
       "<style scoped>\n",
       "    .dataframe tbody tr th:only-of-type {\n",
       "        vertical-align: middle;\n",
       "    }\n",
       "\n",
       "    .dataframe tbody tr th {\n",
       "        vertical-align: top;\n",
       "    }\n",
       "\n",
       "    .dataframe thead tr th {\n",
       "        text-align: left;\n",
       "    }\n",
       "</style>\n",
       "<table border=\"1\" class=\"dataframe\">\n",
       "  <thead>\n",
       "    <tr>\n",
       "      <th></th>\n",
       "      <th colspan=\"5\" halign=\"left\">AGG</th>\n",
       "      <th colspan=\"5\" halign=\"left\">SPY</th>\n",
       "    </tr>\n",
       "    <tr>\n",
       "      <th></th>\n",
       "      <th>open</th>\n",
       "      <th>high</th>\n",
       "      <th>low</th>\n",
       "      <th>close</th>\n",
       "      <th>volume</th>\n",
       "      <th>open</th>\n",
       "      <th>high</th>\n",
       "      <th>low</th>\n",
       "      <th>close</th>\n",
       "      <th>volume</th>\n",
       "    </tr>\n",
       "  </thead>\n",
       "  <tbody>\n",
       "    <tr>\n",
       "      <th>2021-01-29 00:00:00-05:00</th>\n",
       "      <td>117.1563</td>\n",
       "      <td>117.4</td>\n",
       "      <td>116.5625</td>\n",
       "      <td>117.32</td>\n",
       "      <td>7119889</td>\n",
       "      <td>375.63</td>\n",
       "      <td>376.67</td>\n",
       "      <td>368.27</td>\n",
       "      <td>370.19</td>\n",
       "      <td>106397082</td>\n",
       "    </tr>\n",
       "  </tbody>\n",
       "</table>\n",
       "</div>"
      ],
      "text/plain": [
       "                                AGG                                       SPY  \\\n",
       "                               open   high       low   close   volume    open   \n",
       "2021-01-29 00:00:00-05:00  117.1563  117.4  116.5625  117.32  7119889  375.63   \n",
       "\n",
       "                                                              \n",
       "                             high     low   close     volume  \n",
       "2021-01-29 00:00:00-05:00  376.67  368.27  370.19  106397082  "
      ]
     },
     "execution_count": 26,
     "metadata": {},
     "output_type": "execute_result"
    }
   ],
   "source": [
    "# Use the Alpaca get_barset function to get current closing prices the portfolio\n",
    "# Be sure to set the `df` property after the function to format the response object as a DataFrame\n",
    "prices_df = alpaca.get_barset(tickers,timeframe,start=start_date,end=end_date).df\n",
    "\n",
    "# Review the first 5 rows of the Alpaca DataFrame\n",
    "prices_df.head()\n"
   ]
  },
  {
   "cell_type": "markdown",
   "metadata": {},
   "source": [
    "#### Step 5: Navigating the Alpaca response DataFrame, select the `SPY` and `AGG` closing prices, and store them as variables."
   ]
  },
  {
   "cell_type": "code",
   "execution_count": 46,
   "metadata": {},
   "outputs": [
    {
     "name": "stdout",
     "output_type": "stream",
     "text": [
      "117.32\n"
     ]
    }
   ],
   "source": [
    "# Access the closing price for AGG from the Alpaca DataFrame\n",
    "# Converting the value to a floating point number\n",
    "agg_close_price = prices_df['AGG']['close'].item()\n",
    "\n",
    "# Print the AGG closing price\n",
    "print(agg_close_price)\n"
   ]
  },
  {
   "cell_type": "code",
   "execution_count": 47,
   "metadata": {},
   "outputs": [
    {
     "name": "stdout",
     "output_type": "stream",
     "text": [
      "370.19\n"
     ]
    }
   ],
   "source": [
    "# Access the closing price for SPY from the Alpaca DataFrame\n",
    "# Converting the value to a floating point number\n",
    "spy_close_price = prices_df['SPY']['close'].item()\n",
    "\n",
    "# Print the SPY closing price\n",
    "print(spy_close_price)\n"
   ]
  },
  {
   "cell_type": "markdown",
   "metadata": {},
   "source": [
    "#### Step 6: Calculate the value, in US dollars, of the current amount of shares in each of the stock and bond portions of the portfolio, and print the results."
   ]
  },
  {
   "cell_type": "code",
   "execution_count": 48,
   "metadata": {},
   "outputs": [
    {
     "name": "stdout",
     "output_type": "stream",
     "text": [
      "23464.0\n"
     ]
    }
   ],
   "source": [
    "# Calculate the current value of the bond portion of the portfolio\n",
    "agg_value = agg_shares*agg_close_price\n",
    "\n",
    "# Print the current value of the bond portfolio\n",
    "print(agg_value)\n"
   ]
  },
  {
   "cell_type": "code",
   "execution_count": 49,
   "metadata": {},
   "outputs": [
    {
     "name": "stdout",
     "output_type": "stream",
     "text": [
      "40720.9\n"
     ]
    }
   ],
   "source": [
    "# Calculate the current value of the stock portion of the portfolio\n",
    "spy_value = spy_shares*spy_close_price\n",
    "\n",
    "# Print the current value of the stock portfolio\n",
    "print(spy_value)\n"
   ]
  },
  {
   "cell_type": "code",
   "execution_count": 51,
   "metadata": {},
   "outputs": [
    {
     "name": "stdout",
     "output_type": "stream",
     "text": [
      "64184.9\n"
     ]
    }
   ],
   "source": [
    "# Calculate the total value of the stock and bond portion of the portfolio\n",
    "total_stocks_bonds = spy_value+agg_value\n",
    "\n",
    "# Print the current balance of the stock and bond portion of the portfolio\n",
    "print(total_stocks_bonds)\n"
   ]
  },
  {
   "cell_type": "code",
   "execution_count": 52,
   "metadata": {},
   "outputs": [
    {
     "name": "stdout",
     "output_type": "stream",
     "text": [
      "112902.83\n"
     ]
    }
   ],
   "source": [
    "# Calculate the total value of the member's entire savings portfolio\n",
    "# Add the value of the cryptocurrency walled to the value of the total stocks and bonds\n",
    "total_portfolio = total_crypto_wallet+total_stocks_bonds\n",
    "\n",
    "# Print current cryptocurrency wallet balance\n",
    "print(total_portfolio)\n"
   ]
  },
  {
   "cell_type": "markdown",
   "metadata": {},
   "source": [
    "### Evaluate the Emergency Fund\n",
    "\n",
    "In this section, you’ll use the valuations for the cryptocurrency wallet and for the stock and bond portions of the portfolio to determine if the credit union member has enough savings to build an emergency fund into their financial plan. To do this, complete the following steps:\n",
    "\n",
    "1. Create a Python list named `savings_data` that has two elements. The first element contains the total value of the cryptocurrency wallet. The second element contains the total value of the stock and bond portions of the portfolio.\n",
    "\n",
    "2. Use the `savings_data` list to create a Pandas DataFrame named `savings_df`, and then display this DataFrame. The function to create the DataFrame should take the following three parameters:\n",
    "\n",
    "    - `savings_data`: Use the list that you just created.\n",
    "\n",
    "    - `columns`: Set this parameter equal to a Python list with a single value called `amount`.\n",
    "\n",
    "    - `index`: Set this parameter equal to a Python list with the values of `crypto` and `stock/bond`.\n",
    "\n",
    "3. Use the `savings_df` DataFrame to plot a pie chart that visualizes the composition of the member’s portfolio. The y-axis of the pie chart uses `amount`. Be sure to add a title.\n",
    "\n",
    "4. Using Python, determine if the current portfolio has enough to create an emergency fund as part of the member’s financial plan. Ideally, an emergency fund should equal to three times the member’s monthly income. To do this, implement the following steps:\n",
    "\n",
    "    1. Create a variable named `emergency_fund_value`, and set it equal to three times the value of the member’s `monthly_income` of $12000. (You set this earlier in Part 1).\n",
    "\n",
    "    2. Create a series of three if statements to determine if the member’s total portfolio is large enough to fund the emergency portfolio:\n",
    "\n",
    "        1. If the total portfolio value is greater than the emergency fund value, display a message congratulating the member for having enough money in this fund.\n",
    "\n",
    "        2. Else if the total portfolio value is equal to the emergency fund value, display a message congratulating the member on reaching this important financial goal.\n",
    "\n",
    "        3. Else the total portfolio is less than the emergency fund value, so display a message showing how many dollars away the member is from reaching the goal. (Subtract the total portfolio value from the emergency fund value.)\n"
   ]
  },
  {
   "cell_type": "markdown",
   "metadata": {},
   "source": [
    "#### Step 1: Create a Python list named `savings_data` that has two elements. The first element contains the total value of the cryptocurrency wallet. The second element contains the total value of the stock and bond portions of the portfolio."
   ]
  },
  {
   "cell_type": "code",
   "execution_count": 53,
   "metadata": {},
   "outputs": [
    {
     "name": "stdout",
     "output_type": "stream",
     "text": [
      "[48717.93, 64184.9]\n"
     ]
    }
   ],
   "source": [
    "# Consolidate financial assets data into a Python list\n",
    "savings_data = [total_crypto_wallet,total_stocks_bonds]\n",
    "\n",
    "# Review the Python list savings_data\n",
    "print(savings_data)"
   ]
  },
  {
   "cell_type": "markdown",
   "metadata": {},
   "source": [
    "#### Step 2: Use the `savings_data` list to create a Pandas DataFrame named `savings_df`, and then display this DataFrame. The function to create the DataFrame should take the following three parameters:\n",
    "\n",
    "- `savings_data`: Use the list that you just created.\n",
    "\n",
    "- `columns`: Set this parameter equal to a Python list with a single value called `amount`.\n",
    "\n",
    "- `index`: Set this parameter equal to a Python list with the values of `crypto` and `stock/bond`.\n"
   ]
  },
  {
   "cell_type": "code",
   "execution_count": 54,
   "metadata": {},
   "outputs": [
    {
     "data": {
      "text/html": [
       "<div>\n",
       "<style scoped>\n",
       "    .dataframe tbody tr th:only-of-type {\n",
       "        vertical-align: middle;\n",
       "    }\n",
       "\n",
       "    .dataframe tbody tr th {\n",
       "        vertical-align: top;\n",
       "    }\n",
       "\n",
       "    .dataframe thead th {\n",
       "        text-align: right;\n",
       "    }\n",
       "</style>\n",
       "<table border=\"1\" class=\"dataframe\">\n",
       "  <thead>\n",
       "    <tr style=\"text-align: right;\">\n",
       "      <th></th>\n",
       "      <th>amount</th>\n",
       "    </tr>\n",
       "  </thead>\n",
       "  <tbody>\n",
       "    <tr>\n",
       "      <th>crypto</th>\n",
       "      <td>48717.93</td>\n",
       "    </tr>\n",
       "    <tr>\n",
       "      <th>stock/bond</th>\n",
       "      <td>64184.90</td>\n",
       "    </tr>\n",
       "  </tbody>\n",
       "</table>\n",
       "</div>"
      ],
      "text/plain": [
       "              amount\n",
       "crypto      48717.93\n",
       "stock/bond  64184.90"
      ]
     },
     "execution_count": 54,
     "metadata": {},
     "output_type": "execute_result"
    }
   ],
   "source": [
    "# Create a Pandas DataFrame called savings_df \n",
    "savings_df = pd.DataFrame(savings_data,columns=['amount'],index=['crypto','stock/bond'])\n",
    "\n",
    "# Display the savings_df DataFrame\n",
    "savings_df\n"
   ]
  },
  {
   "cell_type": "markdown",
   "metadata": {},
   "source": [
    "#### Step 3: Use the `savings_df` DataFrame to plot a pie chart that visualizes the composition of the member’s portfolio. The y-axis of the pie chart uses `amount`. Be sure to add a title."
   ]
  },
  {
   "cell_type": "code",
   "execution_count": 55,
   "metadata": {},
   "outputs": [
    {
     "data": {
      "text/plain": [
       "<matplotlib.axes._subplots.AxesSubplot at 0x2040bf1fd60>"
      ]
     },
     "execution_count": 55,
     "metadata": {},
     "output_type": "execute_result"
    },
    {
     "data": {
      "image/png": "[encoded data removed]",
      "text/plain": [
       "<Figure size 1080x720 with 1 Axes>"
      ]
     },
     "metadata": {},
     "output_type": "display_data"
    }
   ],
   "source": [
    "# Plot the total value of the member's portfolio (crypto and stock/bond) in a pie chart\n",
    "savings_df.plot(kind='pie',y='amount',figsize=(15,10),title='Portfolio Composition')\n"
   ]
  },
  {
   "cell_type": "markdown",
   "metadata": {},
   "source": [
    "#### Step 4: Using Python, determine if the current portfolio has enough to create an emergency fund as part of the member’s financial plan. Ideally, an emergency fund should equal to three times the member’s monthly income. To do this, implement the following steps:\n",
    "\n",
    "Step 1. Create a variable named `emergency_fund_value`, and set it equal to three times the value of the member’s `monthly_income` of 12000. (You set this earlier in Part 1).\n",
    "\n",
    "Step 2. Create a series of three if statements to determine if the member’s total portfolio is large enough to fund the emergency portfolio:\n",
    "\n",
    "* If the total portfolio value is greater than the emergency fund value, display a message congratulating the member for having enough money in this fund.\n",
    "\n",
    "* Else if the total portfolio value is equal to the emergency fund value, display a message congratulating the member on reaching this important financial goal.\n",
    "\n",
    "* Else the total portfolio is less than the emergency fund value, so display a message showing how many dollars away the member is from reaching the goal. (Subtract the total portfolio value from the emergency fund value.)\n"
   ]
  },
  {
   "cell_type": "markdown",
   "metadata": {},
   "source": [
    "##### Step 4-1: Create a variable named `emergency_fund_value`, and set it equal to three times the value of the member’s `monthly_income` of 12000. (You set this earlier in Part 1)."
   ]
  },
  {
   "cell_type": "code",
   "execution_count": 57,
   "metadata": {},
   "outputs": [
    {
     "data": {
      "text/plain": [
       "36000"
      ]
     },
     "execution_count": 57,
     "metadata": {},
     "output_type": "execute_result"
    }
   ],
   "source": [
    "# Create a variable named emergency_fund_value\n",
    "emergency_fund_value = 3*monthly_income\n",
    "emergency_fund_value"
   ]
  },
  {
   "cell_type": "markdown",
   "metadata": {},
   "source": [
    "##### Step 4-2: Create a series of three if statements to determine if the member’s total portfolio is large enough to fund the emergency portfolio:\n",
    "\n",
    "* If the total portfolio value is greater than the emergency fund value, display a message congratulating the member for having enough money in this fund.\n",
    "\n",
    "* Else if the total portfolio value is equal to the emergency fund value, display a message congratulating the member on reaching this important financial goal.\n",
    "\n",
    "* Else the total portfolio is less than the emergency fund value, so display a message showing how many dollars away the member is from reaching the goal. (Subtract the total portfolio value from the emergency fund value.)"
   ]
  },
  {
   "cell_type": "code",
   "execution_count": 65,
   "metadata": {},
   "outputs": [
    {
     "name": "stdout",
     "output_type": "stream",
     "text": [
      "Congratulations! You have enough money in case of an emergency.\n"
     ]
    }
   ],
   "source": [
    "# Created new function to evaluate the possibility of creating an emergency fund with 3 conditions:\n",
    "missing_money = emergency_fund_value-total_portfolio\n",
    "def enough_for_emergency_fund(total_portfolio,emergency_fund_value):\n",
    "    if total_portfolio > emergency_fund_value:\n",
    "        print('Congratulations! You have enough money in case of an emergency.')\n",
    "    elif total_portfolio == emergency_fund_value:\n",
    "        print('Congratulations! You have enough money in case of an emergency.')\n",
    "    else:\n",
    "        print(f'You need {missing_money} to have enough money in your emergency fund')\n",
    "\n",
    "# Call the function to determine if the client has enough funds in their emergency fund\n",
    "enough_for_emergency_fund(total_portfolio,emergency_fund_value)"
   ]
  },
  {
   "cell_type": "markdown",
   "metadata": {},
   "source": [
    "## Part 2: Create a Financial Planner for Retirement"
   ]
  },
  {
   "cell_type": "markdown",
   "metadata": {},
   "source": [
    "### Create the Monte Carlo Simulation\n",
    "\n",
    "In this section, you’ll use the MCForecastTools library to create a Monte Carlo simulation for the member’s savings portfolio. To do this, complete the following steps:\n",
    "\n",
    "1. Make an API call via the Alpaca SDK to get 10 years of historical closing prices for a traditional 60/40 portfolio split: 60% stocks (SPY) and 40% bonds (AGG).\n",
    "\n",
    "2. Run a Monte Carlo simulation of 500 samples and 30 years for the 60/40 portfolio, and then plot the results.The following image shows the overlay line plot resulting from a simulation with these characteristics. However, because a random number generator is used to run each live Monte Carlo simulation, your image will differ slightly from this exact image:\n",
    "\n",
    "![A screenshot depicts the resulting plot.](Images/5-4-monte-carlo-line-plot.png)\n",
    "\n",
    "3. Plot the probability distribution of the Monte Carlo simulation. Plot the probability distribution of the Monte Carlo simulation. The following image shows the histogram plot resulting from a simulation with these characteristics. However, because a random number generator is used to run each live Monte Carlo simulation, your image will differ slightly from this exact image:\n",
    "\n",
    "![A screenshot depicts the histogram plot.](Images/5-4-monte-carlo-histogram.png)\n",
    "\n",
    "4. Generate the summary statistics for the Monte Carlo simulation.\n",
    "\n"
   ]
  },
  {
   "cell_type": "markdown",
   "metadata": {},
   "source": [
    "#### Step 1: Make an API call via the Alpaca SDK to get 10 years of historical closing prices for a traditional 60/40 portfolio split: 60% stocks (SPY) and 40% bonds (AGG)."
   ]
  },
  {
   "cell_type": "code",
   "execution_count": 66,
   "metadata": {},
   "outputs": [],
   "source": [
    "# Set start and end dates of 10 years back from your current date\n",
    "start_date = pd.Timestamp('2011-01-29',tz='America/New_York').isoformat()\n",
    "end_date = pd.Timestamp('2021-01-29',tz='America/New_York').isoformat()\n"
   ]
  },
  {
   "cell_type": "code",
   "execution_count": 67,
   "metadata": {},
   "outputs": [
    {
     "data": {
      "text/html": [
       "<div>\n",
       "<style scoped>\n",
       "    .dataframe tbody tr th:only-of-type {\n",
       "        vertical-align: middle;\n",
       "    }\n",
       "\n",
       "    .dataframe tbody tr th {\n",
       "        vertical-align: top;\n",
       "    }\n",
       "\n",
       "    .dataframe thead tr th {\n",
       "        text-align: left;\n",
       "    }\n",
       "</style>\n",
       "<table border=\"1\" class=\"dataframe\">\n",
       "  <thead>\n",
       "    <tr>\n",
       "      <th></th>\n",
       "      <th colspan=\"5\" halign=\"left\">AGG</th>\n",
       "      <th colspan=\"5\" halign=\"left\">SPY</th>\n",
       "    </tr>\n",
       "    <tr>\n",
       "      <th></th>\n",
       "      <th>open</th>\n",
       "      <th>high</th>\n",
       "      <th>low</th>\n",
       "      <th>close</th>\n",
       "      <th>volume</th>\n",
       "      <th>open</th>\n",
       "      <th>high</th>\n",
       "      <th>low</th>\n",
       "      <th>close</th>\n",
       "      <th>volume</th>\n",
       "    </tr>\n",
       "  </thead>\n",
       "  <tbody>\n",
       "    <tr>\n",
       "      <th>2011-01-31 00:00:00-05:00</th>\n",
       "      <td>105.85</td>\n",
       "      <td>105.940</td>\n",
       "      <td>105.59</td>\n",
       "      <td>105.67</td>\n",
       "      <td>1514824.0</td>\n",
       "      <td>128.07</td>\n",
       "      <td>128.78</td>\n",
       "      <td>127.7500</td>\n",
       "      <td>128.67</td>\n",
       "      <td>125255715</td>\n",
       "    </tr>\n",
       "    <tr>\n",
       "      <th>2011-02-01 00:00:00-05:00</th>\n",
       "      <td>105.26</td>\n",
       "      <td>105.260</td>\n",
       "      <td>105.03</td>\n",
       "      <td>105.12</td>\n",
       "      <td>629903.0</td>\n",
       "      <td>129.46</td>\n",
       "      <td>130.97</td>\n",
       "      <td>129.3801</td>\n",
       "      <td>130.75</td>\n",
       "      <td>134943648</td>\n",
       "    </tr>\n",
       "    <tr>\n",
       "      <th>2011-02-02 00:00:00-05:00</th>\n",
       "      <td>105.15</td>\n",
       "      <td>105.230</td>\n",
       "      <td>104.88</td>\n",
       "      <td>105.00</td>\n",
       "      <td>473272.0</td>\n",
       "      <td>130.40</td>\n",
       "      <td>130.84</td>\n",
       "      <td>130.3300</td>\n",
       "      <td>130.47</td>\n",
       "      <td>97820942</td>\n",
       "    </tr>\n",
       "    <tr>\n",
       "      <th>2011-02-03 00:00:00-05:00</th>\n",
       "      <td>104.79</td>\n",
       "      <td>104.871</td>\n",
       "      <td>104.61</td>\n",
       "      <td>104.62</td>\n",
       "      <td>838703.0</td>\n",
       "      <td>130.26</td>\n",
       "      <td>130.98</td>\n",
       "      <td>129.5700</td>\n",
       "      <td>130.78</td>\n",
       "      <td>122274669</td>\n",
       "    </tr>\n",
       "    <tr>\n",
       "      <th>2011-02-04 00:00:00-05:00</th>\n",
       "      <td>104.51</td>\n",
       "      <td>104.630</td>\n",
       "      <td>104.20</td>\n",
       "      <td>104.25</td>\n",
       "      <td>1090269.0</td>\n",
       "      <td>130.83</td>\n",
       "      <td>131.20</td>\n",
       "      <td>130.2300</td>\n",
       "      <td>131.15</td>\n",
       "      <td>103598208</td>\n",
       "    </tr>\n",
       "  </tbody>\n",
       "</table>\n",
       "</div>"
      ],
      "text/plain": [
       "                              AGG                                         SPY  \\\n",
       "                             open     high     low   close     volume    open   \n",
       "2011-01-31 00:00:00-05:00  105.85  105.940  105.59  105.67  1514824.0  128.07   \n",
       "2011-02-01 00:00:00-05:00  105.26  105.260  105.03  105.12   629903.0  129.46   \n",
       "2011-02-02 00:00:00-05:00  105.15  105.230  104.88  105.00   473272.0  130.40   \n",
       "2011-02-03 00:00:00-05:00  104.79  104.871  104.61  104.62   838703.0  130.26   \n",
       "2011-02-04 00:00:00-05:00  104.51  104.630  104.20  104.25  1090269.0  130.83   \n",
       "\n",
       "                                                                \n",
       "                             high       low   close     volume  \n",
       "2011-01-31 00:00:00-05:00  128.78  127.7500  128.67  125255715  \n",
       "2011-02-01 00:00:00-05:00  130.97  129.3801  130.75  134943648  \n",
       "2011-02-02 00:00:00-05:00  130.84  130.3300  130.47   97820942  \n",
       "2011-02-03 00:00:00-05:00  130.98  129.5700  130.78  122274669  \n",
       "2011-02-04 00:00:00-05:00  131.20  130.2300  131.15  103598208  "
      ]
     },
     "metadata": {},
     "output_type": "display_data"
    },
    {
     "data": {
      "text/html": [
       "<div>\n",
       "<style scoped>\n",
       "    .dataframe tbody tr th:only-of-type {\n",
       "        vertical-align: middle;\n",
       "    }\n",
       "\n",
       "    .dataframe tbody tr th {\n",
       "        vertical-align: top;\n",
       "    }\n",
       "\n",
       "    .dataframe thead tr th {\n",
       "        text-align: left;\n",
       "    }\n",
       "</style>\n",
       "<table border=\"1\" class=\"dataframe\">\n",
       "  <thead>\n",
       "    <tr>\n",
       "      <th></th>\n",
       "      <th colspan=\"5\" halign=\"left\">AGG</th>\n",
       "      <th colspan=\"5\" halign=\"left\">SPY</th>\n",
       "    </tr>\n",
       "    <tr>\n",
       "      <th></th>\n",
       "      <th>open</th>\n",
       "      <th>high</th>\n",
       "      <th>low</th>\n",
       "      <th>close</th>\n",
       "      <th>volume</th>\n",
       "      <th>open</th>\n",
       "      <th>high</th>\n",
       "      <th>low</th>\n",
       "      <th>close</th>\n",
       "      <th>volume</th>\n",
       "    </tr>\n",
       "  </thead>\n",
       "  <tbody>\n",
       "    <tr>\n",
       "      <th>2021-01-25 00:00:00-05:00</th>\n",
       "      <td>117.3900</td>\n",
       "      <td>117.560</td>\n",
       "      <td>117.3600</td>\n",
       "      <td>117.54</td>\n",
       "      <td>3977366.0</td>\n",
       "      <td>383.67</td>\n",
       "      <td>384.77</td>\n",
       "      <td>378.46</td>\n",
       "      <td>384.40</td>\n",
       "      <td>61090775</td>\n",
       "    </tr>\n",
       "    <tr>\n",
       "      <th>2021-01-26 00:00:00-05:00</th>\n",
       "      <td>117.4600</td>\n",
       "      <td>117.585</td>\n",
       "      <td>117.4255</td>\n",
       "      <td>117.51</td>\n",
       "      <td>3451493.0</td>\n",
       "      <td>385.41</td>\n",
       "      <td>385.85</td>\n",
       "      <td>383.54</td>\n",
       "      <td>383.83</td>\n",
       "      <td>36871235</td>\n",
       "    </tr>\n",
       "    <tr>\n",
       "      <th>2021-01-27 00:00:00-05:00</th>\n",
       "      <td>117.6100</td>\n",
       "      <td>117.670</td>\n",
       "      <td>117.0400</td>\n",
       "      <td>117.52</td>\n",
       "      <td>3509666.0</td>\n",
       "      <td>380.22</td>\n",
       "      <td>380.32</td>\n",
       "      <td>372.01</td>\n",
       "      <td>374.44</td>\n",
       "      <td>99246554</td>\n",
       "    </tr>\n",
       "    <tr>\n",
       "      <th>2021-01-28 00:00:00-05:00</th>\n",
       "      <td>117.4800</td>\n",
       "      <td>117.490</td>\n",
       "      <td>117.2900</td>\n",
       "      <td>117.43</td>\n",
       "      <td>4440895.0</td>\n",
       "      <td>376.36</td>\n",
       "      <td>381.93</td>\n",
       "      <td>375.89</td>\n",
       "      <td>377.60</td>\n",
       "      <td>75229306</td>\n",
       "    </tr>\n",
       "    <tr>\n",
       "      <th>2021-01-29 00:00:00-05:00</th>\n",
       "      <td>117.1563</td>\n",
       "      <td>117.400</td>\n",
       "      <td>116.5625</td>\n",
       "      <td>117.32</td>\n",
       "      <td>7119889.0</td>\n",
       "      <td>375.63</td>\n",
       "      <td>376.67</td>\n",
       "      <td>368.27</td>\n",
       "      <td>370.19</td>\n",
       "      <td>106397082</td>\n",
       "    </tr>\n",
       "  </tbody>\n",
       "</table>\n",
       "</div>"
      ],
      "text/plain": [
       "                                AGG                                        \\\n",
       "                               open     high       low   close     volume   \n",
       "2021-01-25 00:00:00-05:00  117.3900  117.560  117.3600  117.54  3977366.0   \n",
       "2021-01-26 00:00:00-05:00  117.4600  117.585  117.4255  117.51  3451493.0   \n",
       "2021-01-27 00:00:00-05:00  117.6100  117.670  117.0400  117.52  3509666.0   \n",
       "2021-01-28 00:00:00-05:00  117.4800  117.490  117.2900  117.43  4440895.0   \n",
       "2021-01-29 00:00:00-05:00  117.1563  117.400  116.5625  117.32  7119889.0   \n",
       "\n",
       "                              SPY                                     \n",
       "                             open    high     low   close     volume  \n",
       "2021-01-25 00:00:00-05:00  383.67  384.77  378.46  384.40   61090775  \n",
       "2021-01-26 00:00:00-05:00  385.41  385.85  383.54  383.83   36871235  \n",
       "2021-01-27 00:00:00-05:00  380.22  380.32  372.01  374.44   99246554  \n",
       "2021-01-28 00:00:00-05:00  376.36  381.93  375.89  377.60   75229306  \n",
       "2021-01-29 00:00:00-05:00  375.63  376.67  368.27  370.19  106397082  "
      ]
     },
     "metadata": {},
     "output_type": "display_data"
    }
   ],
   "source": [
    "# Use the Alpaca get_barset function to make the API call to get the 10 years worth of pricing data\n",
    "# The tickers, timeframe parameters, and start and end dates come from the information set above\n",
    "portfolio_df = alpaca.get_barset(tickers,timeframe,start=start_date,end=end_date).df\n",
    "\n",
    "\n",
    "# Display both the first and last five rows of the DataFrame\n",
    "display(portfolio_df.head())\n",
    "display(portfolio_df.tail())\n"
   ]
  },
  {
   "cell_type": "markdown",
   "metadata": {},
   "source": [
    "#### Step 2: Run a Monte Carlo simulation of 500 samples and 30 years for the 60/40 portfolio, and then plot the results."
   ]
  },
  {
   "cell_type": "code",
   "execution_count": 69,
   "metadata": {},
   "outputs": [
    {
     "data": {
      "text/html": [
       "<div>\n",
       "<style scoped>\n",
       "    .dataframe tbody tr th:only-of-type {\n",
       "        vertical-align: middle;\n",
       "    }\n",
       "\n",
       "    .dataframe tbody tr th {\n",
       "        vertical-align: top;\n",
       "    }\n",
       "\n",
       "    .dataframe thead tr th {\n",
       "        text-align: left;\n",
       "    }\n",
       "</style>\n",
       "<table border=\"1\" class=\"dataframe\">\n",
       "  <thead>\n",
       "    <tr>\n",
       "      <th></th>\n",
       "      <th colspan=\"6\" halign=\"left\">AGG</th>\n",
       "      <th colspan=\"6\" halign=\"left\">SPY</th>\n",
       "    </tr>\n",
       "    <tr>\n",
       "      <th></th>\n",
       "      <th>open</th>\n",
       "      <th>high</th>\n",
       "      <th>low</th>\n",
       "      <th>close</th>\n",
       "      <th>volume</th>\n",
       "      <th>daily_return</th>\n",
       "      <th>open</th>\n",
       "      <th>high</th>\n",
       "      <th>low</th>\n",
       "      <th>close</th>\n",
       "      <th>volume</th>\n",
       "      <th>daily_return</th>\n",
       "    </tr>\n",
       "  </thead>\n",
       "  <tbody>\n",
       "    <tr>\n",
       "      <th>2011-01-31 00:00:00-05:00</th>\n",
       "      <td>105.85</td>\n",
       "      <td>105.940</td>\n",
       "      <td>105.59</td>\n",
       "      <td>105.67</td>\n",
       "      <td>1514824.0</td>\n",
       "      <td>NaN</td>\n",
       "      <td>128.07</td>\n",
       "      <td>128.78</td>\n",
       "      <td>127.7500</td>\n",
       "      <td>128.67</td>\n",
       "      <td>125255715</td>\n",
       "      <td>NaN</td>\n",
       "    </tr>\n",
       "    <tr>\n",
       "      <th>2011-02-01 00:00:00-05:00</th>\n",
       "      <td>105.26</td>\n",
       "      <td>105.260</td>\n",
       "      <td>105.03</td>\n",
       "      <td>105.12</td>\n",
       "      <td>629903.0</td>\n",
       "      <td>-0.005205</td>\n",
       "      <td>129.46</td>\n",
       "      <td>130.97</td>\n",
       "      <td>129.3801</td>\n",
       "      <td>130.75</td>\n",
       "      <td>134943648</td>\n",
       "      <td>0.016165</td>\n",
       "    </tr>\n",
       "    <tr>\n",
       "      <th>2011-02-02 00:00:00-05:00</th>\n",
       "      <td>105.15</td>\n",
       "      <td>105.230</td>\n",
       "      <td>104.88</td>\n",
       "      <td>105.00</td>\n",
       "      <td>473272.0</td>\n",
       "      <td>-0.001142</td>\n",
       "      <td>130.40</td>\n",
       "      <td>130.84</td>\n",
       "      <td>130.3300</td>\n",
       "      <td>130.47</td>\n",
       "      <td>97820942</td>\n",
       "      <td>-0.002141</td>\n",
       "    </tr>\n",
       "    <tr>\n",
       "      <th>2011-02-03 00:00:00-05:00</th>\n",
       "      <td>104.79</td>\n",
       "      <td>104.871</td>\n",
       "      <td>104.61</td>\n",
       "      <td>104.62</td>\n",
       "      <td>838703.0</td>\n",
       "      <td>-0.003619</td>\n",
       "      <td>130.26</td>\n",
       "      <td>130.98</td>\n",
       "      <td>129.5700</td>\n",
       "      <td>130.78</td>\n",
       "      <td>122274669</td>\n",
       "      <td>0.002376</td>\n",
       "    </tr>\n",
       "    <tr>\n",
       "      <th>2011-02-04 00:00:00-05:00</th>\n",
       "      <td>104.51</td>\n",
       "      <td>104.630</td>\n",
       "      <td>104.20</td>\n",
       "      <td>104.25</td>\n",
       "      <td>1090269.0</td>\n",
       "      <td>-0.003537</td>\n",
       "      <td>130.83</td>\n",
       "      <td>131.20</td>\n",
       "      <td>130.2300</td>\n",
       "      <td>131.15</td>\n",
       "      <td>103598208</td>\n",
       "      <td>0.002829</td>\n",
       "    </tr>\n",
       "  </tbody>\n",
       "</table>\n",
       "</div>"
      ],
      "text/plain": [
       "                              AGG                                      \\\n",
       "                             open     high     low   close     volume   \n",
       "2011-01-31 00:00:00-05:00  105.85  105.940  105.59  105.67  1514824.0   \n",
       "2011-02-01 00:00:00-05:00  105.26  105.260  105.03  105.12   629903.0   \n",
       "2011-02-02 00:00:00-05:00  105.15  105.230  104.88  105.00   473272.0   \n",
       "2011-02-03 00:00:00-05:00  104.79  104.871  104.61  104.62   838703.0   \n",
       "2011-02-04 00:00:00-05:00  104.51  104.630  104.20  104.25  1090269.0   \n",
       "\n",
       "                                           SPY                            \\\n",
       "                          daily_return    open    high       low   close   \n",
       "2011-01-31 00:00:00-05:00          NaN  128.07  128.78  127.7500  128.67   \n",
       "2011-02-01 00:00:00-05:00    -0.005205  129.46  130.97  129.3801  130.75   \n",
       "2011-02-02 00:00:00-05:00    -0.001142  130.40  130.84  130.3300  130.47   \n",
       "2011-02-03 00:00:00-05:00    -0.003619  130.26  130.98  129.5700  130.78   \n",
       "2011-02-04 00:00:00-05:00    -0.003537  130.83  131.20  130.2300  131.15   \n",
       "\n",
       "                                                   \n",
       "                              volume daily_return  \n",
       "2011-01-31 00:00:00-05:00  125255715          NaN  \n",
       "2011-02-01 00:00:00-05:00  134943648     0.016165  \n",
       "2011-02-02 00:00:00-05:00   97820942    -0.002141  \n",
       "2011-02-03 00:00:00-05:00  122274669     0.002376  \n",
       "2011-02-04 00:00:00-05:00  103598208     0.002829  "
      ]
     },
     "execution_count": 69,
     "metadata": {},
     "output_type": "execute_result"
    }
   ],
   "source": [
    "# Configure the Monte Carlo simulation to forecast 30 years cumulative returns\n",
    "# The weights should be split 40% to AGG and 60% to SPY.\n",
    "# Run 500 samples.\n",
    "portfolio_weights = [.6,.4]\n",
    "\n",
    "# Review the simulation input data\n",
    "MC_sim = (MCSimulation(portfolio_data=portfolio_df,weights=portfolio_weights,num_simulation=500,num_trading_days=252*30))\n",
    "MC_sim.portfolio_data.head()"
   ]
  },
  {
   "cell_type": "code",
   "execution_count": 70,
   "metadata": {},
   "outputs": [
    {
     "name": "stdout",
     "output_type": "stream",
     "text": [
      "Running Monte Carlo simulation number 0.\n",
      "Running Monte Carlo simulation number 10.\n",
      "Running Monte Carlo simulation number 20.\n",
      "Running Monte Carlo simulation number 30.\n",
      "Running Monte Carlo simulation number 40.\n",
      "Running Monte Carlo simulation number 50.\n",
      "Running Monte Carlo simulation number 60.\n",
      "Running Monte Carlo simulation number 70.\n",
      "Running Monte Carlo simulation number 80.\n",
      "Running Monte Carlo simulation number 90.\n",
      "Running Monte Carlo simulation number 100.\n",
      "Running Monte Carlo simulation number 110.\n",
      "Running Monte Carlo simulation number 120.\n",
      "Running Monte Carlo simulation number 130.\n",
      "Running Monte Carlo simulation number 140.\n",
      "Running Monte Carlo simulation number 150.\n",
      "Running Monte Carlo simulation number 160.\n",
      "Running Monte Carlo simulation number 170.\n",
      "Running Monte Carlo simulation number 180.\n",
      "Running Monte Carlo simulation number 190.\n",
      "Running Monte Carlo simulation number 200.\n",
      "Running Monte Carlo simulation number 210.\n",
      "Running Monte Carlo simulation number 220.\n",
      "Running Monte Carlo simulation number 230.\n",
      "Running Monte Carlo simulation number 240.\n",
      "Running Monte Carlo simulation number 250.\n",
      "Running Monte Carlo simulation number 260.\n",
      "Running Monte Carlo simulation number 270.\n",
      "Running Monte Carlo simulation number 280.\n",
      "Running Monte Carlo simulation number 290.\n",
      "Running Monte Carlo simulation number 300.\n",
      "Running Monte Carlo simulation number 310.\n",
      "Running Monte Carlo simulation number 320.\n",
      "Running Monte Carlo simulation number 330.\n",
      "Running Monte Carlo simulation number 340.\n",
      "Running Monte Carlo simulation number 350.\n",
      "Running Monte Carlo simulation number 360.\n",
      "Running Monte Carlo simulation number 370.\n",
      "Running Monte Carlo simulation number 380.\n",
      "Running Monte Carlo simulation number 390.\n",
      "Running Monte Carlo simulation number 400.\n",
      "Running Monte Carlo simulation number 410.\n",
      "Running Monte Carlo simulation number 420.\n",
      "Running Monte Carlo simulation number 430.\n",
      "Running Monte Carlo simulation number 440.\n",
      "Running Monte Carlo simulation number 450.\n",
      "Running Monte Carlo simulation number 460.\n",
      "Running Monte Carlo simulation number 470.\n",
      "Running Monte Carlo simulation number 480.\n",
      "Running Monte Carlo simulation number 490.\n"
     ]
    },
    {
     "data": {
      "text/html": [
       "<div>\n",
       "<style scoped>\n",
       "    .dataframe tbody tr th:only-of-type {\n",
       "        vertical-align: middle;\n",
       "    }\n",
       "\n",
       "    .dataframe tbody tr th {\n",
       "        vertical-align: top;\n",
       "    }\n",
       "\n",
       "    .dataframe thead th {\n",
       "        text-align: right;\n",
       "    }\n",
       "</style>\n",
       "<table border=\"1\" class=\"dataframe\">\n",
       "  <thead>\n",
       "    <tr style=\"text-align: right;\">\n",
       "      <th></th>\n",
       "      <th>0</th>\n",
       "      <th>1</th>\n",
       "      <th>2</th>\n",
       "      <th>3</th>\n",
       "      <th>4</th>\n",
       "      <th>5</th>\n",
       "      <th>6</th>\n",
       "      <th>7</th>\n",
       "      <th>8</th>\n",
       "      <th>9</th>\n",
       "      <th>...</th>\n",
       "      <th>490</th>\n",
       "      <th>491</th>\n",
       "      <th>492</th>\n",
       "      <th>493</th>\n",
       "      <th>494</th>\n",
       "      <th>495</th>\n",
       "      <th>496</th>\n",
       "      <th>497</th>\n",
       "      <th>498</th>\n",
       "      <th>499</th>\n",
       "    </tr>\n",
       "  </thead>\n",
       "  <tbody>\n",
       "    <tr>\n",
       "      <th>0</th>\n",
       "      <td>1.000000</td>\n",
       "      <td>1.000000</td>\n",
       "      <td>1.000000</td>\n",
       "      <td>1.000000</td>\n",
       "      <td>1.000000</td>\n",
       "      <td>1.000000</td>\n",
       "      <td>1.000000</td>\n",
       "      <td>1.000000</td>\n",
       "      <td>1.000000</td>\n",
       "      <td>1.000000</td>\n",
       "      <td>...</td>\n",
       "      <td>1.000000</td>\n",
       "      <td>1.000000</td>\n",
       "      <td>1.000000</td>\n",
       "      <td>1.000000</td>\n",
       "      <td>1.000000</td>\n",
       "      <td>1.000000</td>\n",
       "      <td>1.000000</td>\n",
       "      <td>1.000000</td>\n",
       "      <td>1.000000</td>\n",
       "      <td>1.000000</td>\n",
       "    </tr>\n",
       "    <tr>\n",
       "      <th>1</th>\n",
       "      <td>1.008918</td>\n",
       "      <td>1.001066</td>\n",
       "      <td>0.995326</td>\n",
       "      <td>1.004952</td>\n",
       "      <td>0.992756</td>\n",
       "      <td>1.001898</td>\n",
       "      <td>1.002604</td>\n",
       "      <td>0.992612</td>\n",
       "      <td>1.001267</td>\n",
       "      <td>0.996966</td>\n",
       "      <td>...</td>\n",
       "      <td>1.002911</td>\n",
       "      <td>0.995021</td>\n",
       "      <td>0.997478</td>\n",
       "      <td>0.998983</td>\n",
       "      <td>0.997633</td>\n",
       "      <td>1.003982</td>\n",
       "      <td>1.003465</td>\n",
       "      <td>0.999663</td>\n",
       "      <td>0.981059</td>\n",
       "      <td>1.001962</td>\n",
       "    </tr>\n",
       "    <tr>\n",
       "      <th>2</th>\n",
       "      <td>1.017042</td>\n",
       "      <td>0.989584</td>\n",
       "      <td>0.997195</td>\n",
       "      <td>1.009550</td>\n",
       "      <td>0.995299</td>\n",
       "      <td>1.008165</td>\n",
       "      <td>1.001605</td>\n",
       "      <td>0.989905</td>\n",
       "      <td>1.008934</td>\n",
       "      <td>1.001491</td>\n",
       "      <td>...</td>\n",
       "      <td>1.001103</td>\n",
       "      <td>1.000914</td>\n",
       "      <td>0.994065</td>\n",
       "      <td>0.998804</td>\n",
       "      <td>0.991175</td>\n",
       "      <td>1.010303</td>\n",
       "      <td>1.007263</td>\n",
       "      <td>0.997026</td>\n",
       "      <td>0.972230</td>\n",
       "      <td>1.008699</td>\n",
       "    </tr>\n",
       "    <tr>\n",
       "      <th>3</th>\n",
       "      <td>1.018672</td>\n",
       "      <td>0.982382</td>\n",
       "      <td>0.998041</td>\n",
       "      <td>1.007280</td>\n",
       "      <td>0.988709</td>\n",
       "      <td>1.006424</td>\n",
       "      <td>0.997015</td>\n",
       "      <td>0.988164</td>\n",
       "      <td>1.010495</td>\n",
       "      <td>1.000256</td>\n",
       "      <td>...</td>\n",
       "      <td>0.997624</td>\n",
       "      <td>1.008452</td>\n",
       "      <td>0.996308</td>\n",
       "      <td>0.995896</td>\n",
       "      <td>0.982829</td>\n",
       "      <td>1.011428</td>\n",
       "      <td>1.008221</td>\n",
       "      <td>0.998751</td>\n",
       "      <td>0.973173</td>\n",
       "      <td>1.007517</td>\n",
       "    </tr>\n",
       "    <tr>\n",
       "      <th>4</th>\n",
       "      <td>1.015146</td>\n",
       "      <td>0.986364</td>\n",
       "      <td>0.999795</td>\n",
       "      <td>1.004822</td>\n",
       "      <td>0.986055</td>\n",
       "      <td>1.007863</td>\n",
       "      <td>0.995043</td>\n",
       "      <td>0.988528</td>\n",
       "      <td>1.016416</td>\n",
       "      <td>0.989068</td>\n",
       "      <td>...</td>\n",
       "      <td>0.996372</td>\n",
       "      <td>1.009950</td>\n",
       "      <td>0.997896</td>\n",
       "      <td>0.996666</td>\n",
       "      <td>0.980136</td>\n",
       "      <td>1.009373</td>\n",
       "      <td>1.003486</td>\n",
       "      <td>1.001180</td>\n",
       "      <td>0.971464</td>\n",
       "      <td>1.015382</td>\n",
       "    </tr>\n",
       "    <tr>\n",
       "      <th>...</th>\n",
       "      <td>...</td>\n",
       "      <td>...</td>\n",
       "      <td>...</td>\n",
       "      <td>...</td>\n",
       "      <td>...</td>\n",
       "      <td>...</td>\n",
       "      <td>...</td>\n",
       "      <td>...</td>\n",
       "      <td>...</td>\n",
       "      <td>...</td>\n",
       "      <td>...</td>\n",
       "      <td>...</td>\n",
       "      <td>...</td>\n",
       "      <td>...</td>\n",
       "      <td>...</td>\n",
       "      <td>...</td>\n",
       "      <td>...</td>\n",
       "      <td>...</td>\n",
       "      <td>...</td>\n",
       "      <td>...</td>\n",
       "      <td>...</td>\n",
       "    </tr>\n",
       "    <tr>\n",
       "      <th>7556</th>\n",
       "      <td>3.519427</td>\n",
       "      <td>3.767620</td>\n",
       "      <td>2.937057</td>\n",
       "      <td>5.575029</td>\n",
       "      <td>2.555657</td>\n",
       "      <td>5.594016</td>\n",
       "      <td>4.775266</td>\n",
       "      <td>2.876176</td>\n",
       "      <td>2.624109</td>\n",
       "      <td>5.340308</td>\n",
       "      <td>...</td>\n",
       "      <td>6.689663</td>\n",
       "      <td>5.888249</td>\n",
       "      <td>5.267747</td>\n",
       "      <td>5.389578</td>\n",
       "      <td>8.825319</td>\n",
       "      <td>3.022742</td>\n",
       "      <td>3.315549</td>\n",
       "      <td>6.370236</td>\n",
       "      <td>2.857093</td>\n",
       "      <td>8.758180</td>\n",
       "    </tr>\n",
       "    <tr>\n",
       "      <th>7557</th>\n",
       "      <td>3.534808</td>\n",
       "      <td>3.740185</td>\n",
       "      <td>2.927701</td>\n",
       "      <td>5.579496</td>\n",
       "      <td>2.569216</td>\n",
       "      <td>5.639210</td>\n",
       "      <td>4.802690</td>\n",
       "      <td>2.877815</td>\n",
       "      <td>2.616956</td>\n",
       "      <td>5.376011</td>\n",
       "      <td>...</td>\n",
       "      <td>6.721360</td>\n",
       "      <td>5.935610</td>\n",
       "      <td>5.265970</td>\n",
       "      <td>5.396444</td>\n",
       "      <td>8.752426</td>\n",
       "      <td>3.004979</td>\n",
       "      <td>3.333152</td>\n",
       "      <td>6.336482</td>\n",
       "      <td>2.845947</td>\n",
       "      <td>8.865517</td>\n",
       "    </tr>\n",
       "    <tr>\n",
       "      <th>7558</th>\n",
       "      <td>3.533035</td>\n",
       "      <td>3.704354</td>\n",
       "      <td>2.919098</td>\n",
       "      <td>5.566206</td>\n",
       "      <td>2.554170</td>\n",
       "      <td>5.664393</td>\n",
       "      <td>4.796726</td>\n",
       "      <td>2.887835</td>\n",
       "      <td>2.620161</td>\n",
       "      <td>5.379704</td>\n",
       "      <td>...</td>\n",
       "      <td>6.774769</td>\n",
       "      <td>5.947808</td>\n",
       "      <td>5.288728</td>\n",
       "      <td>5.385137</td>\n",
       "      <td>8.762783</td>\n",
       "      <td>3.016649</td>\n",
       "      <td>3.352239</td>\n",
       "      <td>6.253797</td>\n",
       "      <td>2.834668</td>\n",
       "      <td>8.902418</td>\n",
       "    </tr>\n",
       "    <tr>\n",
       "      <th>7559</th>\n",
       "      <td>3.537572</td>\n",
       "      <td>3.697831</td>\n",
       "      <td>2.914986</td>\n",
       "      <td>5.568789</td>\n",
       "      <td>2.550274</td>\n",
       "      <td>5.656642</td>\n",
       "      <td>4.810766</td>\n",
       "      <td>2.886381</td>\n",
       "      <td>2.636024</td>\n",
       "      <td>5.386655</td>\n",
       "      <td>...</td>\n",
       "      <td>6.745902</td>\n",
       "      <td>5.936378</td>\n",
       "      <td>5.243503</td>\n",
       "      <td>5.418394</td>\n",
       "      <td>8.862362</td>\n",
       "      <td>3.017260</td>\n",
       "      <td>3.354792</td>\n",
       "      <td>6.277224</td>\n",
       "      <td>2.837412</td>\n",
       "      <td>8.900547</td>\n",
       "    </tr>\n",
       "    <tr>\n",
       "      <th>7560</th>\n",
       "      <td>3.526288</td>\n",
       "      <td>3.715504</td>\n",
       "      <td>2.937732</td>\n",
       "      <td>5.557239</td>\n",
       "      <td>2.553500</td>\n",
       "      <td>5.632724</td>\n",
       "      <td>4.793458</td>\n",
       "      <td>2.890857</td>\n",
       "      <td>2.636803</td>\n",
       "      <td>5.381525</td>\n",
       "      <td>...</td>\n",
       "      <td>6.699934</td>\n",
       "      <td>5.956166</td>\n",
       "      <td>5.197208</td>\n",
       "      <td>5.418980</td>\n",
       "      <td>8.859204</td>\n",
       "      <td>3.014828</td>\n",
       "      <td>3.333386</td>\n",
       "      <td>6.287455</td>\n",
       "      <td>2.862430</td>\n",
       "      <td>8.852117</td>\n",
       "    </tr>\n",
       "  </tbody>\n",
       "</table>\n",
       "<p>7561 rows × 500 columns</p>\n",
       "</div>"
      ],
      "text/plain": [
       "           0         1         2         3         4         5         6    \\\n",
       "0     1.000000  1.000000  1.000000  1.000000  1.000000  1.000000  1.000000   \n",
       "1     1.008918  1.001066  0.995326  1.004952  0.992756  1.001898  1.002604   \n",
       "2     1.017042  0.989584  0.997195  1.009550  0.995299  1.008165  1.001605   \n",
       "3     1.018672  0.982382  0.998041  1.007280  0.988709  1.006424  0.997015   \n",
       "4     1.015146  0.986364  0.999795  1.004822  0.986055  1.007863  0.995043   \n",
       "...        ...       ...       ...       ...       ...       ...       ...   \n",
       "7556  3.519427  3.767620  2.937057  5.575029  2.555657  5.594016  4.775266   \n",
       "7557  3.534808  3.740185  2.927701  5.579496  2.569216  5.639210  4.802690   \n",
       "7558  3.533035  3.704354  2.919098  5.566206  2.554170  5.664393  4.796726   \n",
       "7559  3.537572  3.697831  2.914986  5.568789  2.550274  5.656642  4.810766   \n",
       "7560  3.526288  3.715504  2.937732  5.557239  2.553500  5.632724  4.793458   \n",
       "\n",
       "           7         8         9    ...       490       491       492  \\\n",
       "0     1.000000  1.000000  1.000000  ...  1.000000  1.000000  1.000000   \n",
       "1     0.992612  1.001267  0.996966  ...  1.002911  0.995021  0.997478   \n",
       "2     0.989905  1.008934  1.001491  ...  1.001103  1.000914  0.994065   \n",
       "3     0.988164  1.010495  1.000256  ...  0.997624  1.008452  0.996308   \n",
       "4     0.988528  1.016416  0.989068  ...  0.996372  1.009950  0.997896   \n",
       "...        ...       ...       ...  ...       ...       ...       ...   \n",
       "7556  2.876176  2.624109  5.340308  ...  6.689663  5.888249  5.267747   \n",
       "7557  2.877815  2.616956  5.376011  ...  6.721360  5.935610  5.265970   \n",
       "7558  2.887835  2.620161  5.379704  ...  6.774769  5.947808  5.288728   \n",
       "7559  2.886381  2.636024  5.386655  ...  6.745902  5.936378  5.243503   \n",
       "7560  2.890857  2.636803  5.381525  ...  6.699934  5.956166  5.197208   \n",
       "\n",
       "           493       494       495       496       497       498       499  \n",
       "0     1.000000  1.000000  1.000000  1.000000  1.000000  1.000000  1.000000  \n",
       "1     0.998983  0.997633  1.003982  1.003465  0.999663  0.981059  1.001962  \n",
       "2     0.998804  0.991175  1.010303  1.007263  0.997026  0.972230  1.008699  \n",
       "3     0.995896  0.982829  1.011428  1.008221  0.998751  0.973173  1.007517  \n",
       "4     0.996666  0.980136  1.009373  1.003486  1.001180  0.971464  1.015382  \n",
       "...        ...       ...       ...       ...       ...       ...       ...  \n",
       "7556  5.389578  8.825319  3.022742  3.315549  6.370236  2.857093  8.758180  \n",
       "7557  5.396444  8.752426  3.004979  3.333152  6.336482  2.845947  8.865517  \n",
       "7558  5.385137  8.762783  3.016649  3.352239  6.253797  2.834668  8.902418  \n",
       "7559  5.418394  8.862362  3.017260  3.354792  6.277224  2.837412  8.900547  \n",
       "7560  5.418980  8.859204  3.014828  3.333386  6.287455  2.862430  8.852117  \n",
       "\n",
       "[7561 rows x 500 columns]"
      ]
     },
     "execution_count": 70,
     "metadata": {},
     "output_type": "execute_result"
    }
   ],
   "source": [
    "# Run the Monte Carlo simulation to forecast 30 years cumulative returns\n",
    "MC_sim.calc_cumulative_return()\n"
   ]
  },
  {
   "cell_type": "code",
   "execution_count": 71,
   "metadata": {},
   "outputs": [
    {
     "data": {
      "text/plain": [
       "<matplotlib.axes._subplots.AxesSubplot at 0x2040b61a640>"
      ]
     },
     "execution_count": 71,
     "metadata": {},
     "output_type": "execute_result"
    },
    {
     "data": {
      "image/png": "[encoded data removed]",
      "text/plain": [
       "<Figure size 432x288 with 1 Axes>"
      ]
     },
     "metadata": {
      "needs_background": "light"
     },
     "output_type": "display_data"
    }
   ],
   "source": [
    "# Visualize the 30-year Monte Carlo simulation by creating an overlay line plot\n",
    "MC_sim.plot_simulation()\n"
   ]
  },
  {
   "cell_type": "markdown",
   "metadata": {},
   "source": [
    "#### Step 3: Plot the probability distribution of the Monte Carlo simulation."
   ]
  },
  {
   "cell_type": "code",
   "execution_count": 73,
   "metadata": {},
   "outputs": [
    {
     "data": {
      "text/plain": [
       "<matplotlib.axes._subplots.AxesSubplot at 0x2040f0ec880>"
      ]
     },
     "execution_count": 73,
     "metadata": {},
     "output_type": "execute_result"
    },
    {
     "data": {
      "image/png": "[encoded data removed]",
      "text/plain": [
       "<Figure size 432x288 with 1 Axes>"
      ]
     },
     "metadata": {
      "needs_background": "light"
     },
     "output_type": "display_data"
    }
   ],
   "source": [
    "# Visualize the probability distribution of the 30-year Monte Carlo simulation by plotting a histogram\n",
    "MC_sim.plot_distribution()\n"
   ]
  },
  {
   "cell_type": "markdown",
   "metadata": {},
   "source": [
    "#### Step 4: Generate the summary statistics for the Monte Carlo simulation."
   ]
  },
  {
   "cell_type": "code",
   "execution_count": 76,
   "metadata": {},
   "outputs": [
    {
     "name": "stdout",
     "output_type": "stream",
     "text": [
      "count           500.000000\n",
      "mean              5.342035\n",
      "std               2.258892\n",
      "min               1.519987\n",
      "25%               3.706787\n",
      "50%               4.970787\n",
      "75%               6.518476\n",
      "max              15.977616\n",
      "95% CI Lower      2.118971\n",
      "95% CI Upper     10.589895\n",
      "Name: 7560, dtype: float64\n"
     ]
    }
   ],
   "source": [
    "# Generate summary statistics from the 30-year Monte Carlo simulation results\n",
    "# Save the results as a variable\n",
    "cumulative_return_table = MC_sim.summarize_cumulative_return()\n",
    "\n",
    "# Review the 30-year Monte Carlo summary statistics\n",
    "print(cumulative_return_table)"
   ]
  },
  {
   "cell_type": "markdown",
   "metadata": {},
   "source": [
    "### Analyze the Retirement Portfolio Forecasts\n",
    "\n",
    "Using the current value of only the stock and bond portion of the member's portfolio and the summary statistics that you generated from the Monte Carlo simulation, answer the following question in your Jupyter notebook:\n",
    "\n",
    "-  What are the lower and upper bounds for the expected value of the portfolio with a 95% confidence interval?\n"
   ]
  },
  {
   "cell_type": "code",
   "execution_count": 75,
   "metadata": {},
   "outputs": [
    {
     "name": "stdout",
     "output_type": "stream",
     "text": [
      "64184.9\n"
     ]
    }
   ],
   "source": [
    "# Print the current balance of the stock and bond portion of the members portfolio\n",
    "print(total_stocks_bonds)\n"
   ]
  },
  {
   "cell_type": "code",
   "execution_count": 78,
   "metadata": {},
   "outputs": [
    {
     "name": "stdout",
     "output_type": "stream",
     "text": [
      "There is a 95% chance that your current investments of stocks and bonds in the amount of $64184.9 with 60% in stocks and 40% in bonds over the next 30 years will be within in the range of $136005.94769154972 and $679711.3277834036.\n"
     ]
    }
   ],
   "source": [
    "# Use the lower and upper `95%` confidence intervals to calculate the range of the possible outcomes for the current stock/bond portfolio\n",
    "ci_lower_thirty_cumulative_return = cumulative_return_table[8]*total_stocks_bonds\n",
    "ci_upper_thirty_cumulative_return = cumulative_return_table[9]*total_stocks_bonds\n",
    "\n",
    "# Print the result of your calculations\n",
    "print(f\"There is a 95% chance that your current investments of stocks and bonds in the amount of ${total_stocks_bonds}\"\n",
    "      f\" with 60% in stocks and 40% in bonds over the next 30 years will be within in the range of\"\n",
    "      f\" ${ci_lower_thirty_cumulative_return} and ${ci_upper_thirty_cumulative_return}.\")\n"
   ]
  },
  {
   "cell_type": "markdown",
   "metadata": {},
   "source": [
    "### Forecast Cumulative Returns in 10 Years\n",
    "\n",
    "The CTO of the credit union is impressed with your work on these planning tools but wonders if 30 years is a long time to wait until retirement. So, your next task is to adjust the retirement portfolio and run a new Monte Carlo simulation to find out if the changes will allow members to retire earlier.\n",
    "\n",
    "For this new Monte Carlo simulation, do the following: \n",
    "\n",
    "- Forecast the cumulative returns for 10 years from now. Because of the shortened investment horizon (30 years to 10 years), the portfolio needs to invest more heavily in the riskier asset&mdash;that is, stock&mdash;to help accumulate wealth for retirement. \n",
    "\n",
    "- Adjust the weights of the retirement portfolio so that the composition for the Monte Carlo simulation consists of 20% bonds and 80% stocks. \n",
    "\n",
    "- Run the simulation over 500 samples, and use the same data that the API call to Alpaca generated.\n",
    "\n",
    "- Based on the new Monte Carlo simulation, answer the following questions in your Jupyter notebook:\n",
    "\n",
    "    - Using the current value of only the stock and bond portion of the member's portfolio and the summary statistics that you generated from the new Monte Carlo simulation, what are the lower and upper bounds for the expected value of the portfolio (with the new weights) with a 95% confidence interval?\n",
    "\n",
    "    - Will weighting the portfolio more heavily toward stocks allow the credit union members to retire after only 10 years?\n"
   ]
  },
  {
   "cell_type": "code",
   "execution_count": 80,
   "metadata": {},
   "outputs": [
    {
     "data": {
      "text/html": [
       "<div>\n",
       "<style scoped>\n",
       "    .dataframe tbody tr th:only-of-type {\n",
       "        vertical-align: middle;\n",
       "    }\n",
       "\n",
       "    .dataframe tbody tr th {\n",
       "        vertical-align: top;\n",
       "    }\n",
       "\n",
       "    .dataframe thead tr th {\n",
       "        text-align: left;\n",
       "    }\n",
       "</style>\n",
       "<table border=\"1\" class=\"dataframe\">\n",
       "  <thead>\n",
       "    <tr>\n",
       "      <th></th>\n",
       "      <th colspan=\"6\" halign=\"left\">AGG</th>\n",
       "      <th colspan=\"6\" halign=\"left\">SPY</th>\n",
       "    </tr>\n",
       "    <tr>\n",
       "      <th></th>\n",
       "      <th>open</th>\n",
       "      <th>high</th>\n",
       "      <th>low</th>\n",
       "      <th>close</th>\n",
       "      <th>volume</th>\n",
       "      <th>daily_return</th>\n",
       "      <th>open</th>\n",
       "      <th>high</th>\n",
       "      <th>low</th>\n",
       "      <th>close</th>\n",
       "      <th>volume</th>\n",
       "      <th>daily_return</th>\n",
       "    </tr>\n",
       "  </thead>\n",
       "  <tbody>\n",
       "    <tr>\n",
       "      <th>2011-01-31 00:00:00-05:00</th>\n",
       "      <td>105.85</td>\n",
       "      <td>105.940</td>\n",
       "      <td>105.59</td>\n",
       "      <td>105.67</td>\n",
       "      <td>1514824.0</td>\n",
       "      <td>NaN</td>\n",
       "      <td>128.07</td>\n",
       "      <td>128.78</td>\n",
       "      <td>127.7500</td>\n",
       "      <td>128.67</td>\n",
       "      <td>125255715</td>\n",
       "      <td>NaN</td>\n",
       "    </tr>\n",
       "    <tr>\n",
       "      <th>2011-02-01 00:00:00-05:00</th>\n",
       "      <td>105.26</td>\n",
       "      <td>105.260</td>\n",
       "      <td>105.03</td>\n",
       "      <td>105.12</td>\n",
       "      <td>629903.0</td>\n",
       "      <td>-0.005205</td>\n",
       "      <td>129.46</td>\n",
       "      <td>130.97</td>\n",
       "      <td>129.3801</td>\n",
       "      <td>130.75</td>\n",
       "      <td>134943648</td>\n",
       "      <td>0.016165</td>\n",
       "    </tr>\n",
       "    <tr>\n",
       "      <th>2011-02-02 00:00:00-05:00</th>\n",
       "      <td>105.15</td>\n",
       "      <td>105.230</td>\n",
       "      <td>104.88</td>\n",
       "      <td>105.00</td>\n",
       "      <td>473272.0</td>\n",
       "      <td>-0.001142</td>\n",
       "      <td>130.40</td>\n",
       "      <td>130.84</td>\n",
       "      <td>130.3300</td>\n",
       "      <td>130.47</td>\n",
       "      <td>97820942</td>\n",
       "      <td>-0.002141</td>\n",
       "    </tr>\n",
       "    <tr>\n",
       "      <th>2011-02-03 00:00:00-05:00</th>\n",
       "      <td>104.79</td>\n",
       "      <td>104.871</td>\n",
       "      <td>104.61</td>\n",
       "      <td>104.62</td>\n",
       "      <td>838703.0</td>\n",
       "      <td>-0.003619</td>\n",
       "      <td>130.26</td>\n",
       "      <td>130.98</td>\n",
       "      <td>129.5700</td>\n",
       "      <td>130.78</td>\n",
       "      <td>122274669</td>\n",
       "      <td>0.002376</td>\n",
       "    </tr>\n",
       "    <tr>\n",
       "      <th>2011-02-04 00:00:00-05:00</th>\n",
       "      <td>104.51</td>\n",
       "      <td>104.630</td>\n",
       "      <td>104.20</td>\n",
       "      <td>104.25</td>\n",
       "      <td>1090269.0</td>\n",
       "      <td>-0.003537</td>\n",
       "      <td>130.83</td>\n",
       "      <td>131.20</td>\n",
       "      <td>130.2300</td>\n",
       "      <td>131.15</td>\n",
       "      <td>103598208</td>\n",
       "      <td>0.002829</td>\n",
       "    </tr>\n",
       "  </tbody>\n",
       "</table>\n",
       "</div>"
      ],
      "text/plain": [
       "                              AGG                                      \\\n",
       "                             open     high     low   close     volume   \n",
       "2011-01-31 00:00:00-05:00  105.85  105.940  105.59  105.67  1514824.0   \n",
       "2011-02-01 00:00:00-05:00  105.26  105.260  105.03  105.12   629903.0   \n",
       "2011-02-02 00:00:00-05:00  105.15  105.230  104.88  105.00   473272.0   \n",
       "2011-02-03 00:00:00-05:00  104.79  104.871  104.61  104.62   838703.0   \n",
       "2011-02-04 00:00:00-05:00  104.51  104.630  104.20  104.25  1090269.0   \n",
       "\n",
       "                                           SPY                            \\\n",
       "                          daily_return    open    high       low   close   \n",
       "2011-01-31 00:00:00-05:00          NaN  128.07  128.78  127.7500  128.67   \n",
       "2011-02-01 00:00:00-05:00    -0.005205  129.46  130.97  129.3801  130.75   \n",
       "2011-02-02 00:00:00-05:00    -0.001142  130.40  130.84  130.3300  130.47   \n",
       "2011-02-03 00:00:00-05:00    -0.003619  130.26  130.98  129.5700  130.78   \n",
       "2011-02-04 00:00:00-05:00    -0.003537  130.83  131.20  130.2300  131.15   \n",
       "\n",
       "                                                   \n",
       "                              volume daily_return  \n",
       "2011-01-31 00:00:00-05:00  125255715          NaN  \n",
       "2011-02-01 00:00:00-05:00  134943648     0.016165  \n",
       "2011-02-02 00:00:00-05:00   97820942    -0.002141  \n",
       "2011-02-03 00:00:00-05:00  122274669     0.002376  \n",
       "2011-02-04 00:00:00-05:00  103598208     0.002829  "
      ]
     },
     "execution_count": 80,
     "metadata": {},
     "output_type": "execute_result"
    }
   ],
   "source": [
    "# Configure a Monte Carlo simulation to forecast 10 years cumulative returns\n",
    "# The weights should be split 20% to AGG and 80% to SPY.\n",
    "# Run 500 samples.\n",
    "portfolio_weights = [.8,.2]\n",
    "\n",
    "# Review the simulation input data\n",
    "MC_sim_2 = (MCSimulation(portfolio_data=portfolio_df,weights=portfolio_weights,num_simulation=500,num_trading_days=252*10))\n",
    "MC_sim_2.portfolio_data.head()\n"
   ]
  },
  {
   "cell_type": "code",
   "execution_count": 81,
   "metadata": {},
   "outputs": [
    {
     "name": "stdout",
     "output_type": "stream",
     "text": [
      "Running Monte Carlo simulation number 0.\n",
      "Running Monte Carlo simulation number 10.\n",
      "Running Monte Carlo simulation number 20.\n",
      "Running Monte Carlo simulation number 30.\n",
      "Running Monte Carlo simulation number 40.\n",
      "Running Monte Carlo simulation number 50.\n",
      "Running Monte Carlo simulation number 60.\n",
      "Running Monte Carlo simulation number 70.\n",
      "Running Monte Carlo simulation number 80.\n",
      "Running Monte Carlo simulation number 90.\n",
      "Running Monte Carlo simulation number 100.\n",
      "Running Monte Carlo simulation number 110.\n",
      "Running Monte Carlo simulation number 120.\n",
      "Running Monte Carlo simulation number 130.\n",
      "Running Monte Carlo simulation number 140.\n",
      "Running Monte Carlo simulation number 150.\n",
      "Running Monte Carlo simulation number 160.\n",
      "Running Monte Carlo simulation number 170.\n",
      "Running Monte Carlo simulation number 180.\n",
      "Running Monte Carlo simulation number 190.\n",
      "Running Monte Carlo simulation number 200.\n",
      "Running Monte Carlo simulation number 210.\n",
      "Running Monte Carlo simulation number 220.\n",
      "Running Monte Carlo simulation number 230.\n",
      "Running Monte Carlo simulation number 240.\n",
      "Running Monte Carlo simulation number 250.\n",
      "Running Monte Carlo simulation number 260.\n",
      "Running Monte Carlo simulation number 270.\n",
      "Running Monte Carlo simulation number 280.\n",
      "Running Monte Carlo simulation number 290.\n",
      "Running Monte Carlo simulation number 300.\n",
      "Running Monte Carlo simulation number 310.\n",
      "Running Monte Carlo simulation number 320.\n",
      "Running Monte Carlo simulation number 330.\n",
      "Running Monte Carlo simulation number 340.\n",
      "Running Monte Carlo simulation number 350.\n",
      "Running Monte Carlo simulation number 360.\n",
      "Running Monte Carlo simulation number 370.\n",
      "Running Monte Carlo simulation number 380.\n",
      "Running Monte Carlo simulation number 390.\n",
      "Running Monte Carlo simulation number 400.\n",
      "Running Monte Carlo simulation number 410.\n",
      "Running Monte Carlo simulation number 420.\n",
      "Running Monte Carlo simulation number 430.\n",
      "Running Monte Carlo simulation number 440.\n",
      "Running Monte Carlo simulation number 450.\n",
      "Running Monte Carlo simulation number 460.\n",
      "Running Monte Carlo simulation number 470.\n",
      "Running Monte Carlo simulation number 480.\n",
      "Running Monte Carlo simulation number 490.\n"
     ]
    },
    {
     "data": {
      "text/html": [
       "<div>\n",
       "<style scoped>\n",
       "    .dataframe tbody tr th:only-of-type {\n",
       "        vertical-align: middle;\n",
       "    }\n",
       "\n",
       "    .dataframe tbody tr th {\n",
       "        vertical-align: top;\n",
       "    }\n",
       "\n",
       "    .dataframe thead th {\n",
       "        text-align: right;\n",
       "    }\n",
       "</style>\n",
       "<table border=\"1\" class=\"dataframe\">\n",
       "  <thead>\n",
       "    <tr style=\"text-align: right;\">\n",
       "      <th></th>\n",
       "      <th>0</th>\n",
       "      <th>1</th>\n",
       "      <th>2</th>\n",
       "      <th>3</th>\n",
       "      <th>4</th>\n",
       "      <th>5</th>\n",
       "      <th>6</th>\n",
       "      <th>7</th>\n",
       "      <th>8</th>\n",
       "      <th>9</th>\n",
       "      <th>...</th>\n",
       "      <th>490</th>\n",
       "      <th>491</th>\n",
       "      <th>492</th>\n",
       "      <th>493</th>\n",
       "      <th>494</th>\n",
       "      <th>495</th>\n",
       "      <th>496</th>\n",
       "      <th>497</th>\n",
       "      <th>498</th>\n",
       "      <th>499</th>\n",
       "    </tr>\n",
       "  </thead>\n",
       "  <tbody>\n",
       "    <tr>\n",
       "      <th>0</th>\n",
       "      <td>1.000000</td>\n",
       "      <td>1.000000</td>\n",
       "      <td>1.000000</td>\n",
       "      <td>1.000000</td>\n",
       "      <td>1.000000</td>\n",
       "      <td>1.000000</td>\n",
       "      <td>1.000000</td>\n",
       "      <td>1.000000</td>\n",
       "      <td>1.000000</td>\n",
       "      <td>1.000000</td>\n",
       "      <td>...</td>\n",
       "      <td>1.000000</td>\n",
       "      <td>1.000000</td>\n",
       "      <td>1.000000</td>\n",
       "      <td>1.000000</td>\n",
       "      <td>1.000000</td>\n",
       "      <td>1.000000</td>\n",
       "      <td>1.000000</td>\n",
       "      <td>1.000000</td>\n",
       "      <td>1.000000</td>\n",
       "      <td>1.000000</td>\n",
       "    </tr>\n",
       "    <tr>\n",
       "      <th>1</th>\n",
       "      <td>0.997254</td>\n",
       "      <td>1.001809</td>\n",
       "      <td>1.002548</td>\n",
       "      <td>1.001221</td>\n",
       "      <td>0.998902</td>\n",
       "      <td>0.996795</td>\n",
       "      <td>1.000083</td>\n",
       "      <td>0.996743</td>\n",
       "      <td>1.000030</td>\n",
       "      <td>1.001448</td>\n",
       "      <td>...</td>\n",
       "      <td>1.000820</td>\n",
       "      <td>0.995428</td>\n",
       "      <td>0.998604</td>\n",
       "      <td>1.000344</td>\n",
       "      <td>1.005712</td>\n",
       "      <td>0.999380</td>\n",
       "      <td>1.000232</td>\n",
       "      <td>1.001825</td>\n",
       "      <td>1.004841</td>\n",
       "      <td>1.001568</td>\n",
       "    </tr>\n",
       "    <tr>\n",
       "      <th>2</th>\n",
       "      <td>0.996807</td>\n",
       "      <td>1.001383</td>\n",
       "      <td>0.998515</td>\n",
       "      <td>1.003212</td>\n",
       "      <td>1.000803</td>\n",
       "      <td>0.996521</td>\n",
       "      <td>1.004799</td>\n",
       "      <td>0.996497</td>\n",
       "      <td>0.997024</td>\n",
       "      <td>0.996973</td>\n",
       "      <td>...</td>\n",
       "      <td>0.999055</td>\n",
       "      <td>0.995065</td>\n",
       "      <td>0.999297</td>\n",
       "      <td>0.994381</td>\n",
       "      <td>1.008981</td>\n",
       "      <td>0.997584</td>\n",
       "      <td>0.997877</td>\n",
       "      <td>1.001854</td>\n",
       "      <td>1.007611</td>\n",
       "      <td>0.999303</td>\n",
       "    </tr>\n",
       "    <tr>\n",
       "      <th>3</th>\n",
       "      <td>0.998929</td>\n",
       "      <td>1.004556</td>\n",
       "      <td>1.001319</td>\n",
       "      <td>1.005478</td>\n",
       "      <td>1.007761</td>\n",
       "      <td>0.995442</td>\n",
       "      <td>1.008512</td>\n",
       "      <td>0.996976</td>\n",
       "      <td>0.992549</td>\n",
       "      <td>0.996558</td>\n",
       "      <td>...</td>\n",
       "      <td>1.001796</td>\n",
       "      <td>0.997783</td>\n",
       "      <td>0.996114</td>\n",
       "      <td>0.991874</td>\n",
       "      <td>1.006379</td>\n",
       "      <td>0.996865</td>\n",
       "      <td>0.996390</td>\n",
       "      <td>1.005843</td>\n",
       "      <td>1.007400</td>\n",
       "      <td>0.997078</td>\n",
       "    </tr>\n",
       "    <tr>\n",
       "      <th>4</th>\n",
       "      <td>0.999581</td>\n",
       "      <td>1.005134</td>\n",
       "      <td>0.999495</td>\n",
       "      <td>1.004562</td>\n",
       "      <td>1.006132</td>\n",
       "      <td>0.992831</td>\n",
       "      <td>1.008796</td>\n",
       "      <td>0.996202</td>\n",
       "      <td>0.992529</td>\n",
       "      <td>1.002271</td>\n",
       "      <td>...</td>\n",
       "      <td>1.006594</td>\n",
       "      <td>0.995052</td>\n",
       "      <td>0.993455</td>\n",
       "      <td>0.997040</td>\n",
       "      <td>1.009250</td>\n",
       "      <td>1.003481</td>\n",
       "      <td>0.994465</td>\n",
       "      <td>1.003654</td>\n",
       "      <td>1.006648</td>\n",
       "      <td>0.994247</td>\n",
       "    </tr>\n",
       "    <tr>\n",
       "      <th>...</th>\n",
       "      <td>...</td>\n",
       "      <td>...</td>\n",
       "      <td>...</td>\n",
       "      <td>...</td>\n",
       "      <td>...</td>\n",
       "      <td>...</td>\n",
       "      <td>...</td>\n",
       "      <td>...</td>\n",
       "      <td>...</td>\n",
       "      <td>...</td>\n",
       "      <td>...</td>\n",
       "      <td>...</td>\n",
       "      <td>...</td>\n",
       "      <td>...</td>\n",
       "      <td>...</td>\n",
       "      <td>...</td>\n",
       "      <td>...</td>\n",
       "      <td>...</td>\n",
       "      <td>...</td>\n",
       "      <td>...</td>\n",
       "      <td>...</td>\n",
       "    </tr>\n",
       "    <tr>\n",
       "      <th>2516</th>\n",
       "      <td>1.153963</td>\n",
       "      <td>1.676436</td>\n",
       "      <td>1.569763</td>\n",
       "      <td>1.485283</td>\n",
       "      <td>1.495863</td>\n",
       "      <td>1.557253</td>\n",
       "      <td>1.508326</td>\n",
       "      <td>1.330074</td>\n",
       "      <td>1.322881</td>\n",
       "      <td>1.459084</td>\n",
       "      <td>...</td>\n",
       "      <td>1.664487</td>\n",
       "      <td>1.973802</td>\n",
       "      <td>1.136488</td>\n",
       "      <td>1.487454</td>\n",
       "      <td>1.203358</td>\n",
       "      <td>1.473472</td>\n",
       "      <td>1.264743</td>\n",
       "      <td>1.446120</td>\n",
       "      <td>1.552532</td>\n",
       "      <td>1.126350</td>\n",
       "    </tr>\n",
       "    <tr>\n",
       "      <th>2517</th>\n",
       "      <td>1.149934</td>\n",
       "      <td>1.684095</td>\n",
       "      <td>1.562732</td>\n",
       "      <td>1.491068</td>\n",
       "      <td>1.491831</td>\n",
       "      <td>1.556350</td>\n",
       "      <td>1.508688</td>\n",
       "      <td>1.327000</td>\n",
       "      <td>1.325666</td>\n",
       "      <td>1.450845</td>\n",
       "      <td>...</td>\n",
       "      <td>1.664528</td>\n",
       "      <td>1.971698</td>\n",
       "      <td>1.129432</td>\n",
       "      <td>1.490901</td>\n",
       "      <td>1.197674</td>\n",
       "      <td>1.472078</td>\n",
       "      <td>1.264497</td>\n",
       "      <td>1.449363</td>\n",
       "      <td>1.550794</td>\n",
       "      <td>1.127325</td>\n",
       "    </tr>\n",
       "    <tr>\n",
       "      <th>2518</th>\n",
       "      <td>1.150150</td>\n",
       "      <td>1.679588</td>\n",
       "      <td>1.556368</td>\n",
       "      <td>1.499412</td>\n",
       "      <td>1.492225</td>\n",
       "      <td>1.552859</td>\n",
       "      <td>1.510071</td>\n",
       "      <td>1.325864</td>\n",
       "      <td>1.321243</td>\n",
       "      <td>1.449110</td>\n",
       "      <td>...</td>\n",
       "      <td>1.665354</td>\n",
       "      <td>1.978229</td>\n",
       "      <td>1.129029</td>\n",
       "      <td>1.498766</td>\n",
       "      <td>1.196554</td>\n",
       "      <td>1.473908</td>\n",
       "      <td>1.257427</td>\n",
       "      <td>1.447152</td>\n",
       "      <td>1.551915</td>\n",
       "      <td>1.130247</td>\n",
       "    </tr>\n",
       "    <tr>\n",
       "      <th>2519</th>\n",
       "      <td>1.154529</td>\n",
       "      <td>1.675521</td>\n",
       "      <td>1.559254</td>\n",
       "      <td>1.502707</td>\n",
       "      <td>1.494561</td>\n",
       "      <td>1.560595</td>\n",
       "      <td>1.508972</td>\n",
       "      <td>1.327670</td>\n",
       "      <td>1.322594</td>\n",
       "      <td>1.452526</td>\n",
       "      <td>...</td>\n",
       "      <td>1.670470</td>\n",
       "      <td>1.982082</td>\n",
       "      <td>1.126805</td>\n",
       "      <td>1.499362</td>\n",
       "      <td>1.196937</td>\n",
       "      <td>1.482559</td>\n",
       "      <td>1.264599</td>\n",
       "      <td>1.437486</td>\n",
       "      <td>1.552144</td>\n",
       "      <td>1.129213</td>\n",
       "    </tr>\n",
       "    <tr>\n",
       "      <th>2520</th>\n",
       "      <td>1.148324</td>\n",
       "      <td>1.674869</td>\n",
       "      <td>1.564345</td>\n",
       "      <td>1.496986</td>\n",
       "      <td>1.492657</td>\n",
       "      <td>1.559101</td>\n",
       "      <td>1.511604</td>\n",
       "      <td>1.321103</td>\n",
       "      <td>1.320241</td>\n",
       "      <td>1.456027</td>\n",
       "      <td>...</td>\n",
       "      <td>1.671245</td>\n",
       "      <td>1.992882</td>\n",
       "      <td>1.124738</td>\n",
       "      <td>1.503964</td>\n",
       "      <td>1.196937</td>\n",
       "      <td>1.480785</td>\n",
       "      <td>1.264023</td>\n",
       "      <td>1.434210</td>\n",
       "      <td>1.555691</td>\n",
       "      <td>1.129049</td>\n",
       "    </tr>\n",
       "  </tbody>\n",
       "</table>\n",
       "<p>2521 rows × 500 columns</p>\n",
       "</div>"
      ],
      "text/plain": [
       "           0         1         2         3         4         5         6    \\\n",
       "0     1.000000  1.000000  1.000000  1.000000  1.000000  1.000000  1.000000   \n",
       "1     0.997254  1.001809  1.002548  1.001221  0.998902  0.996795  1.000083   \n",
       "2     0.996807  1.001383  0.998515  1.003212  1.000803  0.996521  1.004799   \n",
       "3     0.998929  1.004556  1.001319  1.005478  1.007761  0.995442  1.008512   \n",
       "4     0.999581  1.005134  0.999495  1.004562  1.006132  0.992831  1.008796   \n",
       "...        ...       ...       ...       ...       ...       ...       ...   \n",
       "2516  1.153963  1.676436  1.569763  1.485283  1.495863  1.557253  1.508326   \n",
       "2517  1.149934  1.684095  1.562732  1.491068  1.491831  1.556350  1.508688   \n",
       "2518  1.150150  1.679588  1.556368  1.499412  1.492225  1.552859  1.510071   \n",
       "2519  1.154529  1.675521  1.559254  1.502707  1.494561  1.560595  1.508972   \n",
       "2520  1.148324  1.674869  1.564345  1.496986  1.492657  1.559101  1.511604   \n",
       "\n",
       "           7         8         9    ...       490       491       492  \\\n",
       "0     1.000000  1.000000  1.000000  ...  1.000000  1.000000  1.000000   \n",
       "1     0.996743  1.000030  1.001448  ...  1.000820  0.995428  0.998604   \n",
       "2     0.996497  0.997024  0.996973  ...  0.999055  0.995065  0.999297   \n",
       "3     0.996976  0.992549  0.996558  ...  1.001796  0.997783  0.996114   \n",
       "4     0.996202  0.992529  1.002271  ...  1.006594  0.995052  0.993455   \n",
       "...        ...       ...       ...  ...       ...       ...       ...   \n",
       "2516  1.330074  1.322881  1.459084  ...  1.664487  1.973802  1.136488   \n",
       "2517  1.327000  1.325666  1.450845  ...  1.664528  1.971698  1.129432   \n",
       "2518  1.325864  1.321243  1.449110  ...  1.665354  1.978229  1.129029   \n",
       "2519  1.327670  1.322594  1.452526  ...  1.670470  1.982082  1.126805   \n",
       "2520  1.321103  1.320241  1.456027  ...  1.671245  1.992882  1.124738   \n",
       "\n",
       "           493       494       495       496       497       498       499  \n",
       "0     1.000000  1.000000  1.000000  1.000000  1.000000  1.000000  1.000000  \n",
       "1     1.000344  1.005712  0.999380  1.000232  1.001825  1.004841  1.001568  \n",
       "2     0.994381  1.008981  0.997584  0.997877  1.001854  1.007611  0.999303  \n",
       "3     0.991874  1.006379  0.996865  0.996390  1.005843  1.007400  0.997078  \n",
       "4     0.997040  1.009250  1.003481  0.994465  1.003654  1.006648  0.994247  \n",
       "...        ...       ...       ...       ...       ...       ...       ...  \n",
       "2516  1.487454  1.203358  1.473472  1.264743  1.446120  1.552532  1.126350  \n",
       "2517  1.490901  1.197674  1.472078  1.264497  1.449363  1.550794  1.127325  \n",
       "2518  1.498766  1.196554  1.473908  1.257427  1.447152  1.551915  1.130247  \n",
       "2519  1.499362  1.196937  1.482559  1.264599  1.437486  1.552144  1.129213  \n",
       "2520  1.503964  1.196937  1.480785  1.264023  1.434210  1.555691  1.129049  \n",
       "\n",
       "[2521 rows x 500 columns]"
      ]
     },
     "execution_count": 81,
     "metadata": {},
     "output_type": "execute_result"
    }
   ],
   "source": [
    "# Run the Monte Carlo simulation to forecast 10 years cumulative returns\n",
    "MC_sim_2.calc_cumulative_return()\n"
   ]
  },
  {
   "cell_type": "code",
   "execution_count": 82,
   "metadata": {},
   "outputs": [
    {
     "data": {
      "text/plain": [
       "<matplotlib.axes._subplots.AxesSubplot at 0x2040bdde7c0>"
      ]
     },
     "execution_count": 82,
     "metadata": {},
     "output_type": "execute_result"
    },
    {
     "data": {
      "image/png": "[encoded data removed]",
      "text/plain": [
       "<Figure size 432x288 with 1 Axes>"
      ]
     },
     "metadata": {
      "needs_background": "light"
     },
     "output_type": "display_data"
    }
   ],
   "source": [
    "# Visualize the 10-year Monte Carlo simulation by creating an overlay line plot\n",
    "MC_sim_2.plot_simulation()\n"
   ]
  },
  {
   "cell_type": "code",
   "execution_count": 83,
   "metadata": {},
   "outputs": [
    {
     "data": {
      "text/plain": [
       "<matplotlib.axes._subplots.AxesSubplot at 0x2040f411640>"
      ]
     },
     "execution_count": 83,
     "metadata": {},
     "output_type": "execute_result"
    },
    {
     "data": {
      "image/png": "[encoded data removed]",
      "text/plain": [
       "<Figure size 432x288 with 1 Axes>"
      ]
     },
     "metadata": {
      "needs_background": "light"
     },
     "output_type": "display_data"
    }
   ],
   "source": [
    "# Visualize the probability distribution of the 10-year Monte Carlo simulation by plotting a histogram\n",
    "MC_sim_2.plot_distribution()\n"
   ]
  },
  {
   "cell_type": "code",
   "execution_count": 85,
   "metadata": {},
   "outputs": [
    {
     "name": "stdout",
     "output_type": "stream",
     "text": [
      "count           500.000000\n",
      "mean              1.395470\n",
      "std               0.213284\n",
      "min               0.966206\n",
      "25%               1.238409\n",
      "50%               1.378538\n",
      "75%               1.521403\n",
      "max               2.327312\n",
      "95% CI Lower      1.041669\n",
      "95% CI Upper      1.860235\n",
      "Name: 2520, dtype: float64\n"
     ]
    }
   ],
   "source": [
    "# Generate summary statistics from the 10-year Monte Carlo simulation results\n",
    "# Save the results as a variable\n",
    "cumulative_return_table_2 = MC_sim_2.summarize_cumulative_return()\n",
    "\n",
    "# Review the 30-year Monte Carlo summary statistics\n",
    "print(cumulative_return_table_2)"
   ]
  },
  {
   "cell_type": "markdown",
   "metadata": {},
   "source": [
    "### Answer the following questions:"
   ]
  },
  {
   "cell_type": "markdown",
   "metadata": {},
   "source": [
    "#### Question: Using the current value of only the stock and bond portion of the member's portfolio and the summary statistics that you generated from the new Monte Carlo simulation, what are the lower and upper bounds for the expected value of the portfolio (with the new weights) with a 95% confidence interval?"
   ]
  },
  {
   "cell_type": "code",
   "execution_count": 86,
   "metadata": {},
   "outputs": [
    {
     "name": "stdout",
     "output_type": "stream",
     "text": [
      "64184.9\n"
     ]
    }
   ],
   "source": [
    "# Print the current balance of the stock and bond portion of the members portfolio\n",
    "print(total_stocks_bonds)\n"
   ]
  },
  {
   "cell_type": "code",
   "execution_count": 90,
   "metadata": {},
   "outputs": [
    {
     "name": "stdout",
     "output_type": "stream",
     "text": [
      "There is a 95% chance that your current investments of stocks and bonds in the amount of $64184.9 with 80% in stocks and 20% in bonds over the next 30 years will be within in the range of $66859.4082248337 and $119398.9928990412.\n"
     ]
    }
   ],
   "source": [
    "# Use the lower and upper `95%` confidence intervals to calculate the range of the possible outcomes for the current stock/bond portfolio\n",
    "ci_lower_ten_cumulative_return = cumulative_return_table_2[8]*total_stocks_bonds\n",
    "ci_upper_ten_cumulative_return = cumulative_return_table_2[9]*total_stocks_bonds\n",
    "\n",
    "# Print the result of your calculations\n",
    "print(f\"There is a 95% chance that your current investments of stocks and bonds in the amount of ${total_stocks_bonds}\"\n",
    "      f\" with 80% in stocks and 20% in bonds over the next 30 years will be within in the range of\"\n",
    "      f\" ${ci_lower_ten_cumulative_return} and ${ci_upper_ten_cumulative_return}.\")\n"
   ]
  },
  {
   "cell_type": "markdown",
   "metadata": {},
   "source": [
    "#### Question: Will weighting the portfolio more heavily to stocks allow the credit union members to retire after only 10 years?"
   ]
  },
  {
   "cell_type": "markdown",
   "metadata": {},
   "source": [
    "**Answer** # Weighting the portfolio more heavily to stocks will generate higher returns on a per year basis, but it will not allow the credit union members to retire after 10 years. The upper confidence interval for the 10 year simulation is still lower than the bottom confidence interval for the 30 year simulation. "
   ]
  },
  {
   "cell_type": "code",
   "execution_count": null,
   "metadata": {},
   "outputs": [],
   "source": []
  }
 ],
 "metadata": {
  "kernelspec": {
   "display_name": "Python 3",
   "language": "python",
   "name": "python3"
  },
  "language_info": {
   "codemirror_mode": {
    "name": "ipython",
    "version": 3
   },
   "file_extension": ".py",
   "mimetype": "text/x-python",
   "name": "python",
   "nbconvert_exporter": "python",
   "pygments_lexer": "ipython3",
   "version": "3.8.3"
  }
 },
 "nbformat": 4,
 "nbformat_minor": 4
}
